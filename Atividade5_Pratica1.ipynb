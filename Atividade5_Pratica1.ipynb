{
  "nbformat": 4,
  "nbformat_minor": 0,
  "metadata": {
    "colab": {
      "provenance": [],
      "authorship_tag": "ABX9TyM7eYJN7e11/o4DxXriXbic",
      "include_colab_link": true
    },
    "kernelspec": {
      "name": "python3",
      "display_name": "Python 3"
    },
    "language_info": {
      "name": "python"
    }
  },
  "cells": [
    {
      "cell_type": "markdown",
      "metadata": {
        "id": "view-in-github",
        "colab_type": "text"
      },
      "source": [
        "<a href=\"https://colab.research.google.com/github/brunaguedes92/LogProgPythonN2/blob/main/Atividade5_Pratica1.ipynb\" target=\"_parent\"><img src=\"https://colab.research.google.com/assets/colab-badge.svg\" alt=\"Open In Colab\"/></a>"
      ]
    },
    {
      "cell_type": "markdown",
      "source": [
        "LISTA DE EXERCÍCIOS\n",
        "\n",
        "1. Usando os dados de vacinação da Covid-19 [1], com informações sobre o ano de\n",
        "2021, faça o que se pede:\n",
        "a. Importe a biblioteca pandas para análise de dados.\n",
        "b. Carregue os dados, contidos no arquivo CSV (vacinacao.csv), em um\n",
        "dataframe.\n",
        "c. Verifique se há um índice extra (função: .head()). Se sim, remova usando a\n",
        "função .drop().\n",
        "d. Por segurança, faça uma cópia dos dados em outra variável do tipo dataframe.\n",
        "Veja a cópia, usando head().\n",
        "e. Acesse o dataframe por meio da função .info() e verifique quais potenciais\n",
        "mudanças são necessárias nos tipos das colunas. Todas estão adequadas?"
      ],
      "metadata": {
        "id": "-8JJwkmoSl83"
      }
    },
    {
      "cell_type": "code",
      "execution_count": null,
      "metadata": {
        "id": "Uy8NR99GSlhS"
      },
      "outputs": [],
      "source": [
        "import pandas as pd"
      ]
    },
    {
      "cell_type": "code",
      "source": [
        "df_vacinacao_covid = pd.read_csv('/content/vacinacao.csv')"
      ],
      "metadata": {
        "id": "a9_PIViLYc1_"
      },
      "execution_count": null,
      "outputs": []
    },
    {
      "cell_type": "code",
      "source": [
        "df_vacinacao_covid.info()\n",
        "df_vacinacao_covid_pre = df_vacinacao_covid.copy()"
      ],
      "metadata": {
        "colab": {
          "base_uri": "https://localhost:8080/"
        },
        "id": "Q_gs5X83YrGH",
        "outputId": "c9d90dce-eafe-42b6-9f17-6b2b755151b6"
      },
      "execution_count": null,
      "outputs": [
        {
          "output_type": "stream",
          "name": "stdout",
          "text": [
            "<class 'pandas.core.frame.DataFrame'>\n",
            "RangeIndex: 173451 entries, 0 to 173450\n",
            "Data columns (total 17 columns):\n",
            " #   Column                               Non-Null Count   Dtype \n",
            "---  ------                               --------------   ----- \n",
            " 0   Unnamed: 0                           173451 non-null  int64 \n",
            " 1   location                             173451 non-null  object\n",
            " 2   iso_code                             173451 non-null  object\n",
            " 3   date                                 173451 non-null  object\n",
            " 4   total_vaccinations                   173451 non-null  object\n",
            " 5   people_vaccinated                    173451 non-null  object\n",
            " 6   people_fully_vaccinated              173451 non-null  object\n",
            " 7   total_boosters                       173451 non-null  object\n",
            " 8   daily_vaccinations_raw               173451 non-null  object\n",
            " 9   daily_vaccinations                   173451 non-null  object\n",
            " 10  total_vaccinations_per_hundred       173451 non-null  object\n",
            " 11  people_vaccinated_per_hundred        173451 non-null  object\n",
            " 12  people_fully_vaccinated_per_hundred  173451 non-null  object\n",
            " 13  total_boosters_per_hundred           173451 non-null  object\n",
            " 14  daily_vaccinations_per_million       173451 non-null  object\n",
            " 15  daily_people_vaccinated              173451 non-null  object\n",
            " 16  daily_people_vaccinated_per_hundred  173451 non-null  object\n",
            "dtypes: int64(1), object(16)\n",
            "memory usage: 22.5+ MB\n"
          ]
        }
      ]
    },
    {
      "cell_type": "code",
      "source": [
        "df_vacinacao_covid_pre = df_vacinacao_covid_pre.drop(['Unnamed: 0'], axis=1)\n",
        "df_vacinacao_covid_pre.head()"
      ],
      "metadata": {
        "colab": {
          "base_uri": "https://localhost:8080/",
          "height": 357
        },
        "id": "UraH0aeMY0mP",
        "outputId": "5c3a44ff-70d2-413e-bf7e-1de9c7c31389"
      },
      "execution_count": null,
      "outputs": [
        {
          "output_type": "execute_result",
          "data": {
            "text/plain": [
              "        location iso_code        date total_vaccinations people_vaccinated  \\\n",
              "0   Afghanistan       AFG  2021-02-22                0.0               0.0   \n",
              "1   Afghanistan       AFG  2021-02-23               none              none   \n",
              "2   Afghanistan       AFG  2021-02-24               none              none   \n",
              "3   Afghanistan       AFG  2021-02-25               none              none   \n",
              "4   Afghanistan       AFG  2021-02-26               none              none   \n",
              "\n",
              "  people_fully_vaccinated total_boosters daily_vaccinations_raw  \\\n",
              "0                    none           none                   none   \n",
              "1                    none           none                   none   \n",
              "2                    none           none                   none   \n",
              "3                    none           none                   none   \n",
              "4                    none           none                   none   \n",
              "\n",
              "  daily_vaccinations total_vaccinations_per_hundred  \\\n",
              "0               none                            0.0   \n",
              "1             1367.0                           none   \n",
              "2             1367.0                           none   \n",
              "3             1367.0                           none   \n",
              "4             1367.0                           none   \n",
              "\n",
              "  people_vaccinated_per_hundred people_fully_vaccinated_per_hundred  \\\n",
              "0                           0.0                                none   \n",
              "1                          none                                none   \n",
              "2                          none                                none   \n",
              "3                          none                                none   \n",
              "4                          none                                none   \n",
              "\n",
              "  total_boosters_per_hundred daily_vaccinations_per_million  \\\n",
              "0                       none                           none   \n",
              "1                       none                           33.0   \n",
              "2                       none                           33.0   \n",
              "3                       none                           33.0   \n",
              "4                       none                           33.0   \n",
              "\n",
              "  daily_people_vaccinated daily_people_vaccinated_per_hundred  \n",
              "0                    none                                none  \n",
              "1                  1367.0                               0.003  \n",
              "2                  1367.0                               0.003  \n",
              "3                  1367.0                               0.003  \n",
              "4                  1367.0                               0.003  "
            ],
            "text/html": [
              "\n",
              "\n",
              "  <div id=\"df-20bd5e78-6b2f-4b2b-a12a-45673c5e8548\">\n",
              "    <div class=\"colab-df-container\">\n",
              "      <div>\n",
              "<style scoped>\n",
              "    .dataframe tbody tr th:only-of-type {\n",
              "        vertical-align: middle;\n",
              "    }\n",
              "\n",
              "    .dataframe tbody tr th {\n",
              "        vertical-align: top;\n",
              "    }\n",
              "\n",
              "    .dataframe thead th {\n",
              "        text-align: right;\n",
              "    }\n",
              "</style>\n",
              "<table border=\"1\" class=\"dataframe\">\n",
              "  <thead>\n",
              "    <tr style=\"text-align: right;\">\n",
              "      <th></th>\n",
              "      <th>location</th>\n",
              "      <th>iso_code</th>\n",
              "      <th>date</th>\n",
              "      <th>total_vaccinations</th>\n",
              "      <th>people_vaccinated</th>\n",
              "      <th>people_fully_vaccinated</th>\n",
              "      <th>total_boosters</th>\n",
              "      <th>daily_vaccinations_raw</th>\n",
              "      <th>daily_vaccinations</th>\n",
              "      <th>total_vaccinations_per_hundred</th>\n",
              "      <th>people_vaccinated_per_hundred</th>\n",
              "      <th>people_fully_vaccinated_per_hundred</th>\n",
              "      <th>total_boosters_per_hundred</th>\n",
              "      <th>daily_vaccinations_per_million</th>\n",
              "      <th>daily_people_vaccinated</th>\n",
              "      <th>daily_people_vaccinated_per_hundred</th>\n",
              "    </tr>\n",
              "  </thead>\n",
              "  <tbody>\n",
              "    <tr>\n",
              "      <th>0</th>\n",
              "      <td>Afghanistan</td>\n",
              "      <td>AFG</td>\n",
              "      <td>2021-02-22</td>\n",
              "      <td>0.0</td>\n",
              "      <td>0.0</td>\n",
              "      <td>none</td>\n",
              "      <td>none</td>\n",
              "      <td>none</td>\n",
              "      <td>none</td>\n",
              "      <td>0.0</td>\n",
              "      <td>0.0</td>\n",
              "      <td>none</td>\n",
              "      <td>none</td>\n",
              "      <td>none</td>\n",
              "      <td>none</td>\n",
              "      <td>none</td>\n",
              "    </tr>\n",
              "    <tr>\n",
              "      <th>1</th>\n",
              "      <td>Afghanistan</td>\n",
              "      <td>AFG</td>\n",
              "      <td>2021-02-23</td>\n",
              "      <td>none</td>\n",
              "      <td>none</td>\n",
              "      <td>none</td>\n",
              "      <td>none</td>\n",
              "      <td>none</td>\n",
              "      <td>1367.0</td>\n",
              "      <td>none</td>\n",
              "      <td>none</td>\n",
              "      <td>none</td>\n",
              "      <td>none</td>\n",
              "      <td>33.0</td>\n",
              "      <td>1367.0</td>\n",
              "      <td>0.003</td>\n",
              "    </tr>\n",
              "    <tr>\n",
              "      <th>2</th>\n",
              "      <td>Afghanistan</td>\n",
              "      <td>AFG</td>\n",
              "      <td>2021-02-24</td>\n",
              "      <td>none</td>\n",
              "      <td>none</td>\n",
              "      <td>none</td>\n",
              "      <td>none</td>\n",
              "      <td>none</td>\n",
              "      <td>1367.0</td>\n",
              "      <td>none</td>\n",
              "      <td>none</td>\n",
              "      <td>none</td>\n",
              "      <td>none</td>\n",
              "      <td>33.0</td>\n",
              "      <td>1367.0</td>\n",
              "      <td>0.003</td>\n",
              "    </tr>\n",
              "    <tr>\n",
              "      <th>3</th>\n",
              "      <td>Afghanistan</td>\n",
              "      <td>AFG</td>\n",
              "      <td>2021-02-25</td>\n",
              "      <td>none</td>\n",
              "      <td>none</td>\n",
              "      <td>none</td>\n",
              "      <td>none</td>\n",
              "      <td>none</td>\n",
              "      <td>1367.0</td>\n",
              "      <td>none</td>\n",
              "      <td>none</td>\n",
              "      <td>none</td>\n",
              "      <td>none</td>\n",
              "      <td>33.0</td>\n",
              "      <td>1367.0</td>\n",
              "      <td>0.003</td>\n",
              "    </tr>\n",
              "    <tr>\n",
              "      <th>4</th>\n",
              "      <td>Afghanistan</td>\n",
              "      <td>AFG</td>\n",
              "      <td>2021-02-26</td>\n",
              "      <td>none</td>\n",
              "      <td>none</td>\n",
              "      <td>none</td>\n",
              "      <td>none</td>\n",
              "      <td>none</td>\n",
              "      <td>1367.0</td>\n",
              "      <td>none</td>\n",
              "      <td>none</td>\n",
              "      <td>none</td>\n",
              "      <td>none</td>\n",
              "      <td>33.0</td>\n",
              "      <td>1367.0</td>\n",
              "      <td>0.003</td>\n",
              "    </tr>\n",
              "  </tbody>\n",
              "</table>\n",
              "</div>\n",
              "      <button class=\"colab-df-convert\" onclick=\"convertToInteractive('df-20bd5e78-6b2f-4b2b-a12a-45673c5e8548')\"\n",
              "              title=\"Convert this dataframe to an interactive table.\"\n",
              "              style=\"display:none;\">\n",
              "\n",
              "  <svg xmlns=\"http://www.w3.org/2000/svg\" height=\"24px\"viewBox=\"0 0 24 24\"\n",
              "       width=\"24px\">\n",
              "    <path d=\"M0 0h24v24H0V0z\" fill=\"none\"/>\n",
              "    <path d=\"M18.56 5.44l.94 2.06.94-2.06 2.06-.94-2.06-.94-.94-2.06-.94 2.06-2.06.94zm-11 1L8.5 8.5l.94-2.06 2.06-.94-2.06-.94L8.5 2.5l-.94 2.06-2.06.94zm10 10l.94 2.06.94-2.06 2.06-.94-2.06-.94-.94-2.06-.94 2.06-2.06.94z\"/><path d=\"M17.41 7.96l-1.37-1.37c-.4-.4-.92-.59-1.43-.59-.52 0-1.04.2-1.43.59L10.3 9.45l-7.72 7.72c-.78.78-.78 2.05 0 2.83L4 21.41c.39.39.9.59 1.41.59.51 0 1.02-.2 1.41-.59l7.78-7.78 2.81-2.81c.8-.78.8-2.07 0-2.86zM5.41 20L4 18.59l7.72-7.72 1.47 1.35L5.41 20z\"/>\n",
              "  </svg>\n",
              "      </button>\n",
              "\n",
              "\n",
              "\n",
              "    <div id=\"df-79323aea-a996-469b-979f-eae63637380a\">\n",
              "      <button class=\"colab-df-quickchart\" onclick=\"quickchart('df-79323aea-a996-469b-979f-eae63637380a')\"\n",
              "              title=\"Suggest charts.\"\n",
              "              style=\"display:none;\">\n",
              "\n",
              "<svg xmlns=\"http://www.w3.org/2000/svg\" height=\"24px\"viewBox=\"0 0 24 24\"\n",
              "     width=\"24px\">\n",
              "    <g>\n",
              "        <path d=\"M19 3H5c-1.1 0-2 .9-2 2v14c0 1.1.9 2 2 2h14c1.1 0 2-.9 2-2V5c0-1.1-.9-2-2-2zM9 17H7v-7h2v7zm4 0h-2V7h2v10zm4 0h-2v-4h2v4z\"/>\n",
              "    </g>\n",
              "</svg>\n",
              "      </button>\n",
              "    </div>\n",
              "\n",
              "<style>\n",
              "  .colab-df-quickchart {\n",
              "    background-color: #E8F0FE;\n",
              "    border: none;\n",
              "    border-radius: 50%;\n",
              "    cursor: pointer;\n",
              "    display: none;\n",
              "    fill: #1967D2;\n",
              "    height: 32px;\n",
              "    padding: 0 0 0 0;\n",
              "    width: 32px;\n",
              "  }\n",
              "\n",
              "  .colab-df-quickchart:hover {\n",
              "    background-color: #E2EBFA;\n",
              "    box-shadow: 0px 1px 2px rgba(60, 64, 67, 0.3), 0px 1px 3px 1px rgba(60, 64, 67, 0.15);\n",
              "    fill: #174EA6;\n",
              "  }\n",
              "\n",
              "  [theme=dark] .colab-df-quickchart {\n",
              "    background-color: #3B4455;\n",
              "    fill: #D2E3FC;\n",
              "  }\n",
              "\n",
              "  [theme=dark] .colab-df-quickchart:hover {\n",
              "    background-color: #434B5C;\n",
              "    box-shadow: 0px 1px 3px 1px rgba(0, 0, 0, 0.15);\n",
              "    filter: drop-shadow(0px 1px 2px rgba(0, 0, 0, 0.3));\n",
              "    fill: #FFFFFF;\n",
              "  }\n",
              "</style>\n",
              "\n",
              "    <script>\n",
              "      async function quickchart(key) {\n",
              "        const containerElement = document.querySelector('#' + key);\n",
              "        const charts = await google.colab.kernel.invokeFunction(\n",
              "            'suggestCharts', [key], {});\n",
              "      }\n",
              "    </script>\n",
              "\n",
              "      <script>\n",
              "\n",
              "function displayQuickchartButton(domScope) {\n",
              "  let quickchartButtonEl =\n",
              "    domScope.querySelector('#df-79323aea-a996-469b-979f-eae63637380a button.colab-df-quickchart');\n",
              "  quickchartButtonEl.style.display =\n",
              "    google.colab.kernel.accessAllowed ? 'block' : 'none';\n",
              "}\n",
              "\n",
              "        displayQuickchartButton(document);\n",
              "      </script>\n",
              "      <style>\n",
              "    .colab-df-container {\n",
              "      display:flex;\n",
              "      flex-wrap:wrap;\n",
              "      gap: 12px;\n",
              "    }\n",
              "\n",
              "    .colab-df-convert {\n",
              "      background-color: #E8F0FE;\n",
              "      border: none;\n",
              "      border-radius: 50%;\n",
              "      cursor: pointer;\n",
              "      display: none;\n",
              "      fill: #1967D2;\n",
              "      height: 32px;\n",
              "      padding: 0 0 0 0;\n",
              "      width: 32px;\n",
              "    }\n",
              "\n",
              "    .colab-df-convert:hover {\n",
              "      background-color: #E2EBFA;\n",
              "      box-shadow: 0px 1px 2px rgba(60, 64, 67, 0.3), 0px 1px 3px 1px rgba(60, 64, 67, 0.15);\n",
              "      fill: #174EA6;\n",
              "    }\n",
              "\n",
              "    [theme=dark] .colab-df-convert {\n",
              "      background-color: #3B4455;\n",
              "      fill: #D2E3FC;\n",
              "    }\n",
              "\n",
              "    [theme=dark] .colab-df-convert:hover {\n",
              "      background-color: #434B5C;\n",
              "      box-shadow: 0px 1px 3px 1px rgba(0, 0, 0, 0.15);\n",
              "      filter: drop-shadow(0px 1px 2px rgba(0, 0, 0, 0.3));\n",
              "      fill: #FFFFFF;\n",
              "    }\n",
              "  </style>\n",
              "\n",
              "      <script>\n",
              "        const buttonEl =\n",
              "          document.querySelector('#df-20bd5e78-6b2f-4b2b-a12a-45673c5e8548 button.colab-df-convert');\n",
              "        buttonEl.style.display =\n",
              "          google.colab.kernel.accessAllowed ? 'block' : 'none';\n",
              "\n",
              "        async function convertToInteractive(key) {\n",
              "          const element = document.querySelector('#df-20bd5e78-6b2f-4b2b-a12a-45673c5e8548');\n",
              "          const dataTable =\n",
              "            await google.colab.kernel.invokeFunction('convertToInteractive',\n",
              "                                                     [key], {});\n",
              "          if (!dataTable) return;\n",
              "\n",
              "          const docLinkHtml = 'Like what you see? Visit the ' +\n",
              "            '<a target=\"_blank\" href=https://colab.research.google.com/notebooks/data_table.ipynb>data table notebook</a>'\n",
              "            + ' to learn more about interactive tables.';\n",
              "          element.innerHTML = '';\n",
              "          dataTable['output_type'] = 'display_data';\n",
              "          await google.colab.output.renderOutput(dataTable, element);\n",
              "          const docLink = document.createElement('div');\n",
              "          docLink.innerHTML = docLinkHtml;\n",
              "          element.appendChild(docLink);\n",
              "        }\n",
              "      </script>\n",
              "    </div>\n",
              "  </div>\n"
            ]
          },
          "metadata": {},
          "execution_count": 4
        }
      ]
    },
    {
      "cell_type": "code",
      "source": [
        "df_vacinacao_covid_pre.info()"
      ],
      "metadata": {
        "colab": {
          "base_uri": "https://localhost:8080/"
        },
        "id": "XicXUMUUajQf",
        "outputId": "21e5f0b9-bf54-47c5-8520-329415729675"
      },
      "execution_count": null,
      "outputs": [
        {
          "output_type": "stream",
          "name": "stdout",
          "text": [
            "<class 'pandas.core.frame.DataFrame'>\n",
            "RangeIndex: 173451 entries, 0 to 173450\n",
            "Data columns (total 16 columns):\n",
            " #   Column                               Non-Null Count   Dtype \n",
            "---  ------                               --------------   ----- \n",
            " 0   location                             173451 non-null  object\n",
            " 1   iso_code                             173451 non-null  object\n",
            " 2   date                                 173451 non-null  object\n",
            " 3   total_vaccinations                   173451 non-null  object\n",
            " 4   people_vaccinated                    173451 non-null  object\n",
            " 5   people_fully_vaccinated              173451 non-null  object\n",
            " 6   total_boosters                       173451 non-null  object\n",
            " 7   daily_vaccinations_raw               173451 non-null  object\n",
            " 8   daily_vaccinations                   173451 non-null  object\n",
            " 9   total_vaccinations_per_hundred       173451 non-null  object\n",
            " 10  people_vaccinated_per_hundred        173451 non-null  object\n",
            " 11  people_fully_vaccinated_per_hundred  173451 non-null  object\n",
            " 12  total_boosters_per_hundred           173451 non-null  object\n",
            " 13  daily_vaccinations_per_million       173451 non-null  object\n",
            " 14  daily_people_vaccinated              173451 non-null  object\n",
            " 15  daily_people_vaccinated_per_hundred  173451 non-null  object\n",
            "dtypes: object(16)\n",
            "memory usage: 21.2+ MB\n"
          ]
        }
      ]
    },
    {
      "cell_type": "markdown",
      "source": [
        "2. Limpando a Data: Aplique a função to_datetime. Verifique se o formato da data foi\n",
        "modificado."
      ],
      "metadata": {
        "id": "suma0lErcDgv"
      }
    },
    {
      "cell_type": "code",
      "source": [
        "df_vacinacao_covid_pre['date'] = pd.to_datetime(df_vacinacao_covid_pre['date'])"
      ],
      "metadata": {
        "id": "2L-4kSpGfuoX"
      },
      "execution_count": null,
      "outputs": []
    },
    {
      "cell_type": "code",
      "source": [
        "df_vacinacao_covid_pre.info()"
      ],
      "metadata": {
        "colab": {
          "base_uri": "https://localhost:8080/"
        },
        "id": "TSNp-QaNjNdX",
        "outputId": "4767de4f-341d-4a6e-ac3f-c1ef8b9e09fb"
      },
      "execution_count": null,
      "outputs": [
        {
          "output_type": "stream",
          "name": "stdout",
          "text": [
            "<class 'pandas.core.frame.DataFrame'>\n",
            "RangeIndex: 173451 entries, 0 to 173450\n",
            "Data columns (total 16 columns):\n",
            " #   Column                               Non-Null Count   Dtype         \n",
            "---  ------                               --------------   -----         \n",
            " 0   location                             173451 non-null  object        \n",
            " 1   iso_code                             173451 non-null  object        \n",
            " 2   date                                 173451 non-null  datetime64[ns]\n",
            " 3   total_vaccinations                   173451 non-null  object        \n",
            " 4   people_vaccinated                    173451 non-null  object        \n",
            " 5   people_fully_vaccinated              173451 non-null  object        \n",
            " 6   total_boosters                       173451 non-null  object        \n",
            " 7   daily_vaccinations_raw               173451 non-null  object        \n",
            " 8   daily_vaccinations                   173451 non-null  object        \n",
            " 9   total_vaccinations_per_hundred       173451 non-null  object        \n",
            " 10  people_vaccinated_per_hundred        173451 non-null  object        \n",
            " 11  people_fully_vaccinated_per_hundred  173451 non-null  object        \n",
            " 12  total_boosters_per_hundred           173451 non-null  object        \n",
            " 13  daily_vaccinations_per_million       173451 non-null  object        \n",
            " 14  daily_people_vaccinated              173451 non-null  object        \n",
            " 15  daily_people_vaccinated_per_hundred  173451 non-null  object        \n",
            "dtypes: datetime64[ns](1), object(15)\n",
            "memory usage: 21.2+ MB\n"
          ]
        }
      ]
    },
    {
      "cell_type": "markdown",
      "source": [
        "3. Limpando os Números:\n",
        "a. Com exceção de 'location', 'iso_code', 'date', todos os demais atributos devem\n",
        "ser numéricos e estão definidos como tipo object. Transforme-os para\n",
        "formatos numéricos (dica: use to_numeric)\n",
        "b. Verifique os valores nulos da coluna 'daily_vaccinations' (função: .isnull()).\n",
        "Seria adequado substituí-los por zero? Em caso positivo, substitua pelo valor\n",
        "zero com a função fillna().\n",
        "i. Informativo: A coluna 'daily_vaccinations' representa o acúmulo de\n",
        "pessoas vacinadas a cada 24h de registro. Diante dessa informação, a\n",
        "cada novo dia, a primeira linha fica nula."
      ],
      "metadata": {
        "id": "gSFGSkrdX6w_"
      }
    },
    {
      "cell_type": "code",
      "source": [
        "df_vacinacao_covid_pre.columns"
      ],
      "metadata": {
        "colab": {
          "base_uri": "https://localhost:8080/"
        },
        "id": "Q29Om4TVk2OV",
        "outputId": "b1a41ba9-f745-4e92-c4b0-2b15c5aef8b1"
      },
      "execution_count": null,
      "outputs": [
        {
          "output_type": "execute_result",
          "data": {
            "text/plain": [
              "Index(['location', 'iso_code', 'date', 'total_vaccinations',\n",
              "       'people_vaccinated', 'people_fully_vaccinated', 'total_boosters',\n",
              "       'daily_vaccinations_raw', 'daily_vaccinations',\n",
              "       'total_vaccinations_per_hundred', 'people_vaccinated_per_hundred',\n",
              "       'people_fully_vaccinated_per_hundred', 'total_boosters_per_hundred',\n",
              "       'daily_vaccinations_per_million', 'daily_people_vaccinated',\n",
              "       'daily_people_vaccinated_per_hundred'],\n",
              "      dtype='object')"
            ]
          },
          "metadata": {},
          "execution_count": 8
        }
      ]
    },
    {
      "cell_type": "code",
      "source": [
        "lista_numerica = ['total_vaccinations',\n",
        "       'people_vaccinated', 'people_fully_vaccinated', 'total_boosters',\n",
        "       'daily_vaccinations_raw', 'daily_vaccinations',\n",
        "       'total_vaccinations_per_hundred', 'people_vaccinated_per_hundred',\n",
        "       'people_fully_vaccinated_per_hundred', 'total_boosters_per_hundred',\n",
        "       'daily_vaccinations_per_million', 'daily_people_vaccinated',\n",
        "       'daily_people_vaccinated_per_hundred']\n",
        "\n",
        "for col in lista_numerica:\n",
        "  df_vacinacao_covid_pre[col] = pd.to_numeric(df_vacinacao_covid_pre[col], errors = 'coerce')\n",
        "\n",
        "df_vacinacao_covid_pre.info()"
      ],
      "metadata": {
        "colab": {
          "base_uri": "https://localhost:8080/"
        },
        "id": "cwTeJ4qqkkTu",
        "outputId": "44831a12-01bb-4079-d97a-6bfacd712569"
      },
      "execution_count": null,
      "outputs": [
        {
          "output_type": "stream",
          "name": "stdout",
          "text": [
            "<class 'pandas.core.frame.DataFrame'>\n",
            "RangeIndex: 173451 entries, 0 to 173450\n",
            "Data columns (total 16 columns):\n",
            " #   Column                               Non-Null Count   Dtype         \n",
            "---  ------                               --------------   -----         \n",
            " 0   location                             173451 non-null  object        \n",
            " 1   iso_code                             173451 non-null  object        \n",
            " 2   date                                 173451 non-null  datetime64[ns]\n",
            " 3   total_vaccinations                   76262 non-null   float64       \n",
            " 4   people_vaccinated                    73029 non-null   float64       \n",
            " 5   people_fully_vaccinated              69556 non-null   float64       \n",
            " 6   total_boosters                       44763 non-null   float64       \n",
            " 7   daily_vaccinations_raw               62761 non-null   float64       \n",
            " 8   daily_vaccinations                   172133 non-null  float64       \n",
            " 9   total_vaccinations_per_hundred       76262 non-null   float64       \n",
            " 10  people_vaccinated_per_hundred        73029 non-null   float64       \n",
            " 11  people_fully_vaccinated_per_hundred  69556 non-null   float64       \n",
            " 12  total_boosters_per_hundred           44763 non-null   float64       \n",
            " 13  daily_vaccinations_per_million       172133 non-null  float64       \n",
            " 14  daily_people_vaccinated              171962 non-null  float64       \n",
            " 15  daily_people_vaccinated_per_hundred  171962 non-null  float64       \n",
            "dtypes: datetime64[ns](1), float64(13), object(2)\n",
            "memory usage: 21.2+ MB\n"
          ]
        }
      ]
    },
    {
      "cell_type": "code",
      "source": [
        " df_vacinacao_covid_pre['daily_vaccinations'].isnull().sum()"
      ],
      "metadata": {
        "colab": {
          "base_uri": "https://localhost:8080/"
        },
        "id": "xFGTZkbYuwIH",
        "outputId": "28a3ee52-f8a7-4986-ab3d-1e10f5c7437c"
      },
      "execution_count": null,
      "outputs": [
        {
          "output_type": "execute_result",
          "data": {
            "text/plain": [
              "1318"
            ]
          },
          "metadata": {},
          "execution_count": 10
        }
      ]
    },
    {
      "cell_type": "code",
      "source": [
        " df_vacinacao_covid_pre['daily_vaccinations'] =  df_vacinacao_covid_pre['daily_vaccinations'].fillna(0)"
      ],
      "metadata": {
        "id": "zBh2Ox0ivmCW"
      },
      "execution_count": null,
      "outputs": []
    },
    {
      "cell_type": "code",
      "source": [
        " df_vacinacao_covid_pre['daily_vaccinations'].isnull().sum()"
      ],
      "metadata": {
        "colab": {
          "base_uri": "https://localhost:8080/"
        },
        "id": "RI2SRsw1vrH2",
        "outputId": "4ecb7922-e24f-4e1c-d9cc-754864aeb712"
      },
      "execution_count": null,
      "outputs": [
        {
          "output_type": "execute_result",
          "data": {
            "text/plain": [
              "0"
            ]
          },
          "metadata": {},
          "execution_count": 12
        }
      ]
    },
    {
      "cell_type": "code",
      "source": [
        " df_vacinacao_covid_pre[:].isna().sum()"
      ],
      "metadata": {
        "colab": {
          "base_uri": "https://localhost:8080/"
        },
        "id": "4NYZ0wcRxK9-",
        "outputId": "4ffd163f-2cb0-4324-f1b3-b3c1de1b9c7e"
      },
      "execution_count": null,
      "outputs": [
        {
          "output_type": "execute_result",
          "data": {
            "text/plain": [
              "location                                    0\n",
              "iso_code                                    0\n",
              "date                                        0\n",
              "total_vaccinations                      97189\n",
              "people_vaccinated                      100422\n",
              "people_fully_vaccinated                103895\n",
              "total_boosters                         128688\n",
              "daily_vaccinations_raw                 110690\n",
              "daily_vaccinations                          0\n",
              "total_vaccinations_per_hundred          97189\n",
              "people_vaccinated_per_hundred          100422\n",
              "people_fully_vaccinated_per_hundred    103895\n",
              "total_boosters_per_hundred             128688\n",
              "daily_vaccinations_per_million           1318\n",
              "daily_people_vaccinated                  1489\n",
              "daily_people_vaccinated_per_hundred      1489\n",
              "dtype: int64"
            ]
          },
          "metadata": {},
          "execution_count": 13
        }
      ]
    },
    {
      "cell_type": "markdown",
      "source": [
        "4. Limpando as Strings:\n",
        "a. Verifique quais valores, da coluna ‘location’, apresentam a necessidade de\n",
        "correção (Dica: use unique() e observe os valores do Afeganistão, Brasil e\n",
        "Argentina).\n",
        "b. Utilize a função .strip() para retirar os espaços. Verifique se a operação foi\n",
        "realizada.\n",
        "\n"
      ],
      "metadata": {
        "id": "fyCKKiVnkkle"
      }
    },
    {
      "cell_type": "code",
      "source": [
        "df_vacinacao_covid_pre['location'].unique()"
      ],
      "metadata": {
        "id": "2GxmQaFSqrqu",
        "colab": {
          "base_uri": "https://localhost:8080/"
        },
        "outputId": "8a53d618-e2a5-468d-bbb8-d61bfcd694c7"
      },
      "execution_count": null,
      "outputs": [
        {
          "output_type": "execute_result",
          "data": {
            "text/plain": [
              "array([' Afghanistan ', 'Africa', 'Albania', 'Algeria', 'Andorra',\n",
              "       'Angola', 'Anguilla', 'Antigua and Barbuda', 'ARGENTINA',\n",
              "       'Argentina', 'ArGENTINA', 'ArGENTINA ', 'Armenia', 'Aruba', 'Asia',\n",
              "       'Australia', 'Austria', 'Azerbaijan', 'Bahamas', 'Bahrain',\n",
              "       'Bangladesh', 'Barbados', 'Belarus', 'Belgium', 'Belize', 'Benin',\n",
              "       'Bermuda', 'Bhutan', 'Bolivia', 'Bonaire Sint Eustatius and Saba',\n",
              "       'Bosnia and Herzegovina', 'Botswana', 'BrAzil', 'BRAZIl', 'Brazil',\n",
              "       'brasil', 'British Virgin Islands', 'Brunei', 'Bulgaria',\n",
              "       'Burkina Faso', 'Burundi', 'Cambodia', 'Cameroon', 'Canada',\n",
              "       'Cape Verde', 'Cayman Islands', 'Central African Republic', 'Chad',\n",
              "       'Chile', 'China', 'Colombia', 'Comoros', 'Congo', 'Cook Islands',\n",
              "       'Costa Rica', \"Cote d'Ivoire\", 'Croatia', 'Cuba', 'Curacao',\n",
              "       'Cyprus', 'Czechia', 'Democratic Republic of Congo', 'Denmark',\n",
              "       'Djibouti', 'Dominica', 'Dominican Republic', 'Ecuador', 'Egypt',\n",
              "       'El Salvador', 'England', 'Equatorial Guinea', 'Estonia',\n",
              "       'Eswatini', 'Ethiopia', 'Europe', 'European Union',\n",
              "       'Faeroe Islands', 'Falkland Islands', 'Fiji', 'Finland', 'France',\n",
              "       'French Polynesia', 'Gabon', 'Gambia', 'Georgia', 'Germany',\n",
              "       'Ghana', 'Gibraltar', 'Greece', 'Greenland', 'Grenada',\n",
              "       'Guatemala', 'Guernsey', 'Guinea', 'Guinea-Bissau', 'Guyana',\n",
              "       'Haiti', 'High income', 'Honduras', 'Hong Kong', 'Hungary',\n",
              "       'Iceland', 'India', 'Indonesia', 'Iran', 'Iraq', 'Ireland',\n",
              "       'Isle of Man', 'Israel', 'Italy', 'Jamaica', 'Japan', 'Jersey',\n",
              "       'Jordan', 'Kazakhstan', 'Kenya', 'Kiribati', 'Kosovo', 'Kuwait',\n",
              "       'Kyrgyzstan', 'Laos', 'Latvia', 'Lebanon', 'Lesotho', 'Liberia',\n",
              "       'Libya', 'Liechtenstein', 'Lithuania', 'Low income',\n",
              "       'Lower middle income', 'Luxembourg', 'Macao', 'Madagascar',\n",
              "       'Malawi', 'Malaysia', 'Maldives', 'Mali', 'Malta', 'Mauritania',\n",
              "       'Mauritius', 'Mexico', 'Moldova', 'Monaco', 'Mongolia',\n",
              "       'Montenegro', 'Montserrat', 'Morocco', 'Mozambique', 'Myanmar',\n",
              "       'Namibia', 'Nauru', 'Nepal', 'Netherlands', 'New Caledonia',\n",
              "       'New Zealand', 'Nicaragua', 'Niger', 'Nigeria', 'Niue',\n",
              "       'North America', 'North Macedonia', 'Northern Cyprus',\n",
              "       'Northern Ireland', 'Norway', 'Oceania', 'Oman', 'Pakistan',\n",
              "       'Palestine', 'Panama', 'Papua New Guinea', 'Paraguay', 'Peru',\n",
              "       'Philippines', 'Pitcairn', 'Poland', 'Portugal', 'Qatar',\n",
              "       'Romania', 'Russia', 'Rwanda', 'Saint Helena',\n",
              "       'Saint Kitts and Nevis', 'Saint Lucia',\n",
              "       'Saint Vincent and the Grenadines', 'Samoa', 'San Marino',\n",
              "       'Sao Tome and Principe', 'Saudi Arabia', 'Scotland', 'Senegal',\n",
              "       'Serbia', 'Seychelles', 'Sierra Leone', 'Singapore',\n",
              "       'Sint Maarten (Dutch part)', 'Slovakia', 'Slovenia',\n",
              "       'Solomon Islands', 'Somalia', 'South Africa', 'South America',\n",
              "       'South Korea', 'South Sudan', 'Spain', 'Sri Lanka', 'Sudan',\n",
              "       'Suriname', 'Sweden', 'Switzerland', 'Syria', 'Taiwan',\n",
              "       'Tajikistan', 'Tanzania', 'Thailand', 'Timor', 'Togo', 'Tokelau',\n",
              "       'Tonga', 'Trinidad and Tobago', 'Tunisia', 'Turkey',\n",
              "       'Turkmenistan', 'Turks and Caicos Islands', 'Tuvalu', 'Uganda',\n",
              "       'Ukraine', 'United Arab Emirates', 'United Kingdom',\n",
              "       'United States', 'Upper middle income', 'Uruguay', 'Uzbekistan',\n",
              "       'Vanuatu', 'Venezuela', 'Vietnam', 'Wales', 'Wallis and Futuna',\n",
              "       'World', 'Yemen', 'Zambia', 'Zimbabwe'], dtype=object)"
            ]
          },
          "metadata": {},
          "execution_count": 14
        }
      ]
    },
    {
      "cell_type": "code",
      "source": [
        "df_vacinacao_covid_pre['location'] = df_vacinacao_covid_pre['location'].str.strip()"
      ],
      "metadata": {
        "id": "Fk6GEEILimQx"
      },
      "execution_count": null,
      "outputs": []
    },
    {
      "cell_type": "code",
      "source": [
        "df_vacinacao_covid_pre['location'].unique()"
      ],
      "metadata": {
        "colab": {
          "base_uri": "https://localhost:8080/"
        },
        "id": "j_npVdFJi8iJ",
        "outputId": "0ffa6816-124b-4c12-ef63-36466ab0e100"
      },
      "execution_count": null,
      "outputs": [
        {
          "output_type": "execute_result",
          "data": {
            "text/plain": [
              "array(['Afghanistan', 'Africa', 'Albania', 'Algeria', 'Andorra', 'Angola',\n",
              "       'Anguilla', 'Antigua and Barbuda', 'ARGENTINA', 'Argentina',\n",
              "       'ArGENTINA', 'Armenia', 'Aruba', 'Asia', 'Australia', 'Austria',\n",
              "       'Azerbaijan', 'Bahamas', 'Bahrain', 'Bangladesh', 'Barbados',\n",
              "       'Belarus', 'Belgium', 'Belize', 'Benin', 'Bermuda', 'Bhutan',\n",
              "       'Bolivia', 'Bonaire Sint Eustatius and Saba',\n",
              "       'Bosnia and Herzegovina', 'Botswana', 'BrAzil', 'BRAZIl', 'Brazil',\n",
              "       'brasil', 'British Virgin Islands', 'Brunei', 'Bulgaria',\n",
              "       'Burkina Faso', 'Burundi', 'Cambodia', 'Cameroon', 'Canada',\n",
              "       'Cape Verde', 'Cayman Islands', 'Central African Republic', 'Chad',\n",
              "       'Chile', 'China', 'Colombia', 'Comoros', 'Congo', 'Cook Islands',\n",
              "       'Costa Rica', \"Cote d'Ivoire\", 'Croatia', 'Cuba', 'Curacao',\n",
              "       'Cyprus', 'Czechia', 'Democratic Republic of Congo', 'Denmark',\n",
              "       'Djibouti', 'Dominica', 'Dominican Republic', 'Ecuador', 'Egypt',\n",
              "       'El Salvador', 'England', 'Equatorial Guinea', 'Estonia',\n",
              "       'Eswatini', 'Ethiopia', 'Europe', 'European Union',\n",
              "       'Faeroe Islands', 'Falkland Islands', 'Fiji', 'Finland', 'France',\n",
              "       'French Polynesia', 'Gabon', 'Gambia', 'Georgia', 'Germany',\n",
              "       'Ghana', 'Gibraltar', 'Greece', 'Greenland', 'Grenada',\n",
              "       'Guatemala', 'Guernsey', 'Guinea', 'Guinea-Bissau', 'Guyana',\n",
              "       'Haiti', 'High income', 'Honduras', 'Hong Kong', 'Hungary',\n",
              "       'Iceland', 'India', 'Indonesia', 'Iran', 'Iraq', 'Ireland',\n",
              "       'Isle of Man', 'Israel', 'Italy', 'Jamaica', 'Japan', 'Jersey',\n",
              "       'Jordan', 'Kazakhstan', 'Kenya', 'Kiribati', 'Kosovo', 'Kuwait',\n",
              "       'Kyrgyzstan', 'Laos', 'Latvia', 'Lebanon', 'Lesotho', 'Liberia',\n",
              "       'Libya', 'Liechtenstein', 'Lithuania', 'Low income',\n",
              "       'Lower middle income', 'Luxembourg', 'Macao', 'Madagascar',\n",
              "       'Malawi', 'Malaysia', 'Maldives', 'Mali', 'Malta', 'Mauritania',\n",
              "       'Mauritius', 'Mexico', 'Moldova', 'Monaco', 'Mongolia',\n",
              "       'Montenegro', 'Montserrat', 'Morocco', 'Mozambique', 'Myanmar',\n",
              "       'Namibia', 'Nauru', 'Nepal', 'Netherlands', 'New Caledonia',\n",
              "       'New Zealand', 'Nicaragua', 'Niger', 'Nigeria', 'Niue',\n",
              "       'North America', 'North Macedonia', 'Northern Cyprus',\n",
              "       'Northern Ireland', 'Norway', 'Oceania', 'Oman', 'Pakistan',\n",
              "       'Palestine', 'Panama', 'Papua New Guinea', 'Paraguay', 'Peru',\n",
              "       'Philippines', 'Pitcairn', 'Poland', 'Portugal', 'Qatar',\n",
              "       'Romania', 'Russia', 'Rwanda', 'Saint Helena',\n",
              "       'Saint Kitts and Nevis', 'Saint Lucia',\n",
              "       'Saint Vincent and the Grenadines', 'Samoa', 'San Marino',\n",
              "       'Sao Tome and Principe', 'Saudi Arabia', 'Scotland', 'Senegal',\n",
              "       'Serbia', 'Seychelles', 'Sierra Leone', 'Singapore',\n",
              "       'Sint Maarten (Dutch part)', 'Slovakia', 'Slovenia',\n",
              "       'Solomon Islands', 'Somalia', 'South Africa', 'South America',\n",
              "       'South Korea', 'South Sudan', 'Spain', 'Sri Lanka', 'Sudan',\n",
              "       'Suriname', 'Sweden', 'Switzerland', 'Syria', 'Taiwan',\n",
              "       'Tajikistan', 'Tanzania', 'Thailand', 'Timor', 'Togo', 'Tokelau',\n",
              "       'Tonga', 'Trinidad and Tobago', 'Tunisia', 'Turkey',\n",
              "       'Turkmenistan', 'Turks and Caicos Islands', 'Tuvalu', 'Uganda',\n",
              "       'Ukraine', 'United Arab Emirates', 'United Kingdom',\n",
              "       'United States', 'Upper middle income', 'Uruguay', 'Uzbekistan',\n",
              "       'Vanuatu', 'Venezuela', 'Vietnam', 'Wales', 'Wallis and Futuna',\n",
              "       'World', 'Yemen', 'Zambia', 'Zimbabwe'], dtype=object)"
            ]
          },
          "metadata": {},
          "execution_count": 16
        }
      ]
    },
    {
      "cell_type": "markdown",
      "source": [
        "5. Utilizando a função str.capitalize() corrija o string do Brasil e Argentina na\n",
        "coluna Location. Verifique se a operação foi realizada. Caso esteja tudo correto,\n",
        "salve o dataframe em um novo arquivo .csv, chamado vacinacao_limpo.csv."
      ],
      "metadata": {
        "id": "FY-nl89mqr9W"
      }
    },
    {
      "cell_type": "code",
      "source": [
        "df_vacinacao_covid_pre['location'] = df_vacinacao_covid_pre['location'].str.capitalize()"
      ],
      "metadata": {
        "id": "KW582jLJi_0a"
      },
      "execution_count": null,
      "outputs": []
    },
    {
      "cell_type": "code",
      "source": [
        "df_vacinacao_covid_pre['location'].unique()"
      ],
      "metadata": {
        "colab": {
          "base_uri": "https://localhost:8080/"
        },
        "id": "YQs3Ef-SjG25",
        "outputId": "f2920975-94d7-4e3d-b10a-158358f40e48"
      },
      "execution_count": null,
      "outputs": [
        {
          "output_type": "execute_result",
          "data": {
            "text/plain": [
              "array(['Afghanistan', 'Africa', 'Albania', 'Algeria', 'Andorra', 'Angola',\n",
              "       'Anguilla', 'Antigua and barbuda', 'Argentina', 'Armenia', 'Aruba',\n",
              "       'Asia', 'Australia', 'Austria', 'Azerbaijan', 'Bahamas', 'Bahrain',\n",
              "       'Bangladesh', 'Barbados', 'Belarus', 'Belgium', 'Belize', 'Benin',\n",
              "       'Bermuda', 'Bhutan', 'Bolivia', 'Bonaire sint eustatius and saba',\n",
              "       'Bosnia and herzegovina', 'Botswana', 'Brazil', 'Brasil',\n",
              "       'British virgin islands', 'Brunei', 'Bulgaria', 'Burkina faso',\n",
              "       'Burundi', 'Cambodia', 'Cameroon', 'Canada', 'Cape verde',\n",
              "       'Cayman islands', 'Central african republic', 'Chad', 'Chile',\n",
              "       'China', 'Colombia', 'Comoros', 'Congo', 'Cook islands',\n",
              "       'Costa rica', \"Cote d'ivoire\", 'Croatia', 'Cuba', 'Curacao',\n",
              "       'Cyprus', 'Czechia', 'Democratic republic of congo', 'Denmark',\n",
              "       'Djibouti', 'Dominica', 'Dominican republic', 'Ecuador', 'Egypt',\n",
              "       'El salvador', 'England', 'Equatorial guinea', 'Estonia',\n",
              "       'Eswatini', 'Ethiopia', 'Europe', 'European union',\n",
              "       'Faeroe islands', 'Falkland islands', 'Fiji', 'Finland', 'France',\n",
              "       'French polynesia', 'Gabon', 'Gambia', 'Georgia', 'Germany',\n",
              "       'Ghana', 'Gibraltar', 'Greece', 'Greenland', 'Grenada',\n",
              "       'Guatemala', 'Guernsey', 'Guinea', 'Guinea-bissau', 'Guyana',\n",
              "       'Haiti', 'High income', 'Honduras', 'Hong kong', 'Hungary',\n",
              "       'Iceland', 'India', 'Indonesia', 'Iran', 'Iraq', 'Ireland',\n",
              "       'Isle of man', 'Israel', 'Italy', 'Jamaica', 'Japan', 'Jersey',\n",
              "       'Jordan', 'Kazakhstan', 'Kenya', 'Kiribati', 'Kosovo', 'Kuwait',\n",
              "       'Kyrgyzstan', 'Laos', 'Latvia', 'Lebanon', 'Lesotho', 'Liberia',\n",
              "       'Libya', 'Liechtenstein', 'Lithuania', 'Low income',\n",
              "       'Lower middle income', 'Luxembourg', 'Macao', 'Madagascar',\n",
              "       'Malawi', 'Malaysia', 'Maldives', 'Mali', 'Malta', 'Mauritania',\n",
              "       'Mauritius', 'Mexico', 'Moldova', 'Monaco', 'Mongolia',\n",
              "       'Montenegro', 'Montserrat', 'Morocco', 'Mozambique', 'Myanmar',\n",
              "       'Namibia', 'Nauru', 'Nepal', 'Netherlands', 'New caledonia',\n",
              "       'New zealand', 'Nicaragua', 'Niger', 'Nigeria', 'Niue',\n",
              "       'North america', 'North macedonia', 'Northern cyprus',\n",
              "       'Northern ireland', 'Norway', 'Oceania', 'Oman', 'Pakistan',\n",
              "       'Palestine', 'Panama', 'Papua new guinea', 'Paraguay', 'Peru',\n",
              "       'Philippines', 'Pitcairn', 'Poland', 'Portugal', 'Qatar',\n",
              "       'Romania', 'Russia', 'Rwanda', 'Saint helena',\n",
              "       'Saint kitts and nevis', 'Saint lucia',\n",
              "       'Saint vincent and the grenadines', 'Samoa', 'San marino',\n",
              "       'Sao tome and principe', 'Saudi arabia', 'Scotland', 'Senegal',\n",
              "       'Serbia', 'Seychelles', 'Sierra leone', 'Singapore',\n",
              "       'Sint maarten (dutch part)', 'Slovakia', 'Slovenia',\n",
              "       'Solomon islands', 'Somalia', 'South africa', 'South america',\n",
              "       'South korea', 'South sudan', 'Spain', 'Sri lanka', 'Sudan',\n",
              "       'Suriname', 'Sweden', 'Switzerland', 'Syria', 'Taiwan',\n",
              "       'Tajikistan', 'Tanzania', 'Thailand', 'Timor', 'Togo', 'Tokelau',\n",
              "       'Tonga', 'Trinidad and tobago', 'Tunisia', 'Turkey',\n",
              "       'Turkmenistan', 'Turks and caicos islands', 'Tuvalu', 'Uganda',\n",
              "       'Ukraine', 'United arab emirates', 'United kingdom',\n",
              "       'United states', 'Upper middle income', 'Uruguay', 'Uzbekistan',\n",
              "       'Vanuatu', 'Venezuela', 'Vietnam', 'Wales', 'Wallis and futuna',\n",
              "       'World', 'Yemen', 'Zambia', 'Zimbabwe'], dtype=object)"
            ]
          },
          "metadata": {},
          "execution_count": 18
        }
      ]
    },
    {
      "cell_type": "code",
      "source": [
        "df_vacinacao_covid_pre['location'] = df_vacinacao_covid_pre['location'].str.replace('Brasil','Brazil')"
      ],
      "metadata": {
        "id": "UsodOAXcjc6q"
      },
      "execution_count": null,
      "outputs": []
    },
    {
      "cell_type": "code",
      "source": [
        "df_vacinacao_covid_pre['location'].unique()"
      ],
      "metadata": {
        "colab": {
          "base_uri": "https://localhost:8080/"
        },
        "id": "w-KUItfTkkU6",
        "outputId": "02ea3ccf-a726-4b86-ab8b-f8146cfdd6ca"
      },
      "execution_count": null,
      "outputs": [
        {
          "output_type": "execute_result",
          "data": {
            "text/plain": [
              "array(['Afghanistan', 'Africa', 'Albania', 'Algeria', 'Andorra', 'Angola',\n",
              "       'Anguilla', 'Antigua and barbuda', 'Argentina', 'Armenia', 'Aruba',\n",
              "       'Asia', 'Australia', 'Austria', 'Azerbaijan', 'Bahamas', 'Bahrain',\n",
              "       'Bangladesh', 'Barbados', 'Belarus', 'Belgium', 'Belize', 'Benin',\n",
              "       'Bermuda', 'Bhutan', 'Bolivia', 'Bonaire sint eustatius and saba',\n",
              "       'Bosnia and herzegovina', 'Botswana', 'Brazil',\n",
              "       'British virgin islands', 'Brunei', 'Bulgaria', 'Burkina faso',\n",
              "       'Burundi', 'Cambodia', 'Cameroon', 'Canada', 'Cape verde',\n",
              "       'Cayman islands', 'Central african republic', 'Chad', 'Chile',\n",
              "       'China', 'Colombia', 'Comoros', 'Congo', 'Cook islands',\n",
              "       'Costa rica', \"Cote d'ivoire\", 'Croatia', 'Cuba', 'Curacao',\n",
              "       'Cyprus', 'Czechia', 'Democratic republic of congo', 'Denmark',\n",
              "       'Djibouti', 'Dominica', 'Dominican republic', 'Ecuador', 'Egypt',\n",
              "       'El salvador', 'England', 'Equatorial guinea', 'Estonia',\n",
              "       'Eswatini', 'Ethiopia', 'Europe', 'European union',\n",
              "       'Faeroe islands', 'Falkland islands', 'Fiji', 'Finland', 'France',\n",
              "       'French polynesia', 'Gabon', 'Gambia', 'Georgia', 'Germany',\n",
              "       'Ghana', 'Gibraltar', 'Greece', 'Greenland', 'Grenada',\n",
              "       'Guatemala', 'Guernsey', 'Guinea', 'Guinea-bissau', 'Guyana',\n",
              "       'Haiti', 'High income', 'Honduras', 'Hong kong', 'Hungary',\n",
              "       'Iceland', 'India', 'Indonesia', 'Iran', 'Iraq', 'Ireland',\n",
              "       'Isle of man', 'Israel', 'Italy', 'Jamaica', 'Japan', 'Jersey',\n",
              "       'Jordan', 'Kazakhstan', 'Kenya', 'Kiribati', 'Kosovo', 'Kuwait',\n",
              "       'Kyrgyzstan', 'Laos', 'Latvia', 'Lebanon', 'Lesotho', 'Liberia',\n",
              "       'Libya', 'Liechtenstein', 'Lithuania', 'Low income',\n",
              "       'Lower middle income', 'Luxembourg', 'Macao', 'Madagascar',\n",
              "       'Malawi', 'Malaysia', 'Maldives', 'Mali', 'Malta', 'Mauritania',\n",
              "       'Mauritius', 'Mexico', 'Moldova', 'Monaco', 'Mongolia',\n",
              "       'Montenegro', 'Montserrat', 'Morocco', 'Mozambique', 'Myanmar',\n",
              "       'Namibia', 'Nauru', 'Nepal', 'Netherlands', 'New caledonia',\n",
              "       'New zealand', 'Nicaragua', 'Niger', 'Nigeria', 'Niue',\n",
              "       'North america', 'North macedonia', 'Northern cyprus',\n",
              "       'Northern ireland', 'Norway', 'Oceania', 'Oman', 'Pakistan',\n",
              "       'Palestine', 'Panama', 'Papua new guinea', 'Paraguay', 'Peru',\n",
              "       'Philippines', 'Pitcairn', 'Poland', 'Portugal', 'Qatar',\n",
              "       'Romania', 'Russia', 'Rwanda', 'Saint helena',\n",
              "       'Saint kitts and nevis', 'Saint lucia',\n",
              "       'Saint vincent and the grenadines', 'Samoa', 'San marino',\n",
              "       'Sao tome and principe', 'Saudi arabia', 'Scotland', 'Senegal',\n",
              "       'Serbia', 'Seychelles', 'Sierra leone', 'Singapore',\n",
              "       'Sint maarten (dutch part)', 'Slovakia', 'Slovenia',\n",
              "       'Solomon islands', 'Somalia', 'South africa', 'South america',\n",
              "       'South korea', 'South sudan', 'Spain', 'Sri lanka', 'Sudan',\n",
              "       'Suriname', 'Sweden', 'Switzerland', 'Syria', 'Taiwan',\n",
              "       'Tajikistan', 'Tanzania', 'Thailand', 'Timor', 'Togo', 'Tokelau',\n",
              "       'Tonga', 'Trinidad and tobago', 'Tunisia', 'Turkey',\n",
              "       'Turkmenistan', 'Turks and caicos islands', 'Tuvalu', 'Uganda',\n",
              "       'Ukraine', 'United arab emirates', 'United kingdom',\n",
              "       'United states', 'Upper middle income', 'Uruguay', 'Uzbekistan',\n",
              "       'Vanuatu', 'Venezuela', 'Vietnam', 'Wales', 'Wallis and futuna',\n",
              "       'World', 'Yemen', 'Zambia', 'Zimbabwe'], dtype=object)"
            ]
          },
          "metadata": {},
          "execution_count": 20
        }
      ]
    },
    {
      "cell_type": "code",
      "source": [
        "df_vacinacao_covid_pre.to_csv('vacinacao_limpo.csv')"
      ],
      "metadata": {
        "id": "DU6AkAGXkspa"
      },
      "execution_count": null,
      "outputs": []
    }
  ]
}
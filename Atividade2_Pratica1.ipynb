{
  "nbformat": 4,
  "nbformat_minor": 0,
  "metadata": {
    "colab": {
      "provenance": [],
      "authorship_tag": "ABX9TyMQT2UfdCATV9aISA0MViCu",
      "include_colab_link": true
    },
    "kernelspec": {
      "name": "python3",
      "display_name": "Python 3"
    },
    "language_info": {
      "name": "python"
    }
  },
  "cells": [
    {
      "cell_type": "markdown",
      "metadata": {
        "id": "view-in-github",
        "colab_type": "text"
      },
      "source": [
        "<a href=\"https://colab.research.google.com/github/brunaguedes92/LogProgPythonN2/blob/main/Atividade2_Pratica1.ipynb\" target=\"_parent\"><img src=\"https://colab.research.google.com/assets/colab-badge.svg\" alt=\"Open In Colab\"/></a>"
      ]
    },
    {
      "cell_type": "markdown",
      "source": [
        "LISTA DE EXERCÍCIOS\n",
        "\n",
        "1. Faça o que se pede:\n",
        "a. Crie uma lista, chamada salario, com os seguintes valores:\n",
        "\n",
        "[4650, 2360, 1300, 8200, 9600]\n",
        "\n",
        "b. Verifique o tipo da variável salario para confirmar se é uma lista.\n",
        "c. Acesse o segundo e terceiro valor da lista salario usando fatiamento.\n",
        "d. Transforme a lista salario em um array, chamado salario_arrray, usando a\n",
        "biblioteca do numpy.\n",
        "e. Verifique o tipo da variável salario_array.\n",
        "f. Acesse o segundo e terceiro valor de salario_array.\n",
        "g. Retorne, usando operação booleana, apenas os salários maiores que R$7000.\n",
        "\n"
      ],
      "metadata": {
        "id": "HAL8uyk2Jlwa"
      }
    },
    {
      "cell_type": "code",
      "execution_count": null,
      "metadata": {
        "colab": {
          "base_uri": "https://localhost:8080/"
        },
        "id": "lib5QD3AJijW",
        "outputId": "98512d9b-86bb-4297-f8f7-25e95a61df7e"
      },
      "outputs": [
        {
          "output_type": "execute_result",
          "data": {
            "text/plain": [
              "list"
            ]
          },
          "metadata": {},
          "execution_count": 26
        }
      ],
      "source": [
        "salario = [4650, 2360, 1300, 8200, 9600]\n",
        "type(salario)"
      ]
    },
    {
      "cell_type": "code",
      "source": [
        "salario[1:3]"
      ],
      "metadata": {
        "colab": {
          "base_uri": "https://localhost:8080/"
        },
        "id": "J2CiSrL_m2CB",
        "outputId": "b77d2e2e-7963-4d6c-fbfd-136f8e0954d6"
      },
      "execution_count": null,
      "outputs": [
        {
          "output_type": "execute_result",
          "data": {
            "text/plain": [
              "[2360, 1300]"
            ]
          },
          "metadata": {},
          "execution_count": 27
        }
      ]
    },
    {
      "cell_type": "code",
      "source": [
        "import numpy as np\n",
        "\n",
        "salario_array = np.array(salario)\n",
        "print(type(salario_array))"
      ],
      "metadata": {
        "colab": {
          "base_uri": "https://localhost:8080/"
        },
        "id": "digB5uIbTqvx",
        "outputId": "d7aa40a9-7601-4ce7-d15c-9a2ae0946b9f"
      },
      "execution_count": null,
      "outputs": [
        {
          "output_type": "stream",
          "name": "stdout",
          "text": [
            "<class 'numpy.ndarray'>\n"
          ]
        }
      ]
    },
    {
      "cell_type": "code",
      "source": [
        "salario_array[1:3]"
      ],
      "metadata": {
        "colab": {
          "base_uri": "https://localhost:8080/"
        },
        "id": "84Oej2lwV5cp",
        "outputId": "e50cb49d-75c7-43e5-cf7b-6db9e1694dd4"
      },
      "execution_count": null,
      "outputs": [
        {
          "output_type": "execute_result",
          "data": {
            "text/plain": [
              "array([2360, 1300])"
            ]
          },
          "metadata": {},
          "execution_count": 10
        }
      ]
    },
    {
      "cell_type": "code",
      "source": [
        "print(salario_array[salario_array>7000])"
      ],
      "metadata": {
        "colab": {
          "base_uri": "https://localhost:8080/"
        },
        "id": "z0Vq_eurWJu5",
        "outputId": "d8c995cd-2958-4f5c-c2ca-4dba1f1d4995"
      },
      "execution_count": null,
      "outputs": [
        {
          "output_type": "stream",
          "name": "stdout",
          "text": [
            "[8200 9600]\n"
          ]
        }
      ]
    },
    {
      "cell_type": "markdown",
      "source": [
        "2. A partir do seguinte array contendo as seguintes informações relacionadas ao prêmio\n",
        "Nobel:\n",
        "nobel = np.array([\n",
        "['Adolf Butenandt','1939','Germany','Chemistry','Man'],\n",
        "['Adolf Otto Reinhold Windaus','1928','Germany','Chemistry','Man'],\n",
        "['Adolf von Baeyer','1905','Germany','Chemistry','Man'],\n",
        "['Adolfo Pérez Esquivel','1980','Argentina','Peace','Man'],\n",
        "['Aung San Suu Kyi','1991','Burma','Peace','Woman'],\n",
        "['Barbara McClintock','1983','United States', 'Medicine','Woman'],\n",
        "['Bertha von Suttner','1905','Czech Republic','Peace','Woman'],\n",
        "['Alice Munro','2013','Canada','Literature','Woman'],\n",
        "['Alva Myrdal','1982','Sweden','Peace','Woman'],\n",
        "['Ada Yonath','2009','Israel','Chemistry','Woman']\n",
        "])\n",
        "Crie um novo array, chamado mulheres_nobel, cujo conteúdo será o fatiamento do\n",
        "array nobel original, com apenas os nomes das mulheres e anos de premiação."
      ],
      "metadata": {
        "id": "BxNIKOxMdL7h"
      }
    },
    {
      "cell_type": "code",
      "source": [
        "import numpy as np\n",
        "\n",
        "nobel = np.array([\n",
        "['Adolf Butenandt','1939','Germany','Chemistry','Man'],\n",
        "['Adolf Otto Reinhold Windaus','1928','Germany','Chemistry','Man'],\n",
        "['Adolf von Baeyer','1905','Germany','Chemistry','Man'],\n",
        "['Adolfo Pérez Esquivel','1980','Argentina','Peace','Man'],\n",
        "['Aung San Suu Kyi','1991','Burma','Peace','Woman'],\n",
        "['Barbara McClintock','1983','United States', 'Medicine','Woman'],\n",
        "['Bertha von Suttner','1905','Czech Republic','Peace','Woman'],\n",
        "['Alice Munro','2013','Canada','Literature','Woman'],\n",
        "['Alva Myrdal','1982','Sweden','Peace','Woman'],\n",
        "['Ada Yonath','2009','Israel','Chemistry','Woman']\n",
        "])\n",
        "\n",
        "mulheres_nobel = nobel[nobel[:,4] == 'Woman']\n",
        "print(mulheres_nobel)"
      ],
      "metadata": {
        "colab": {
          "base_uri": "https://localhost:8080/"
        },
        "id": "NLgG7u3RdNDp",
        "outputId": "fe603989-ef8d-4de9-aced-8c0325f496fa"
      },
      "execution_count": 2,
      "outputs": [
        {
          "output_type": "stream",
          "name": "stdout",
          "text": [
            "[['Aung San Suu Kyi' '1991' 'Burma' 'Peace' 'Woman']\n",
            " ['Barbara McClintock' '1983' 'United States' 'Medicine' 'Woman']\n",
            " ['Bertha von Suttner' '1905' 'Czech Republic' 'Peace' 'Woman']\n",
            " ['Alice Munro' '2013' 'Canada' 'Literature' 'Woman']\n",
            " ['Alva Myrdal' '1982' 'Sweden' 'Peace' 'Woman']\n",
            " ['Ada Yonath' '2009' 'Israel' 'Chemistry' 'Woman']]\n"
          ]
        }
      ]
    },
    {
      "cell_type": "markdown",
      "source": [
        "3. Usando o array mulheres_nobel (questão 2), faça um código para mostrar os nomes\n",
        "das mulheres, em ordem alfabética, seguidos dos anos das suas premiações (dica: use\n",
        "argsort()).\n"
      ],
      "metadata": {
        "id": "8Bq447yDJuo6"
      }
    },
    {
      "cell_type": "code",
      "source": [
        "print(mulheres_nobel[mulheres_nobel[:,0].argsort()][:,0:2])"
      ],
      "metadata": {
        "colab": {
          "base_uri": "https://localhost:8080/"
        },
        "id": "1d9Fo5HjJx0y",
        "outputId": "310a69ce-ed57-4bbe-cfd6-6a2965433a1e"
      },
      "execution_count": null,
      "outputs": [
        {
          "output_type": "stream",
          "name": "stdout",
          "text": [
            "[['Ada Yonath' '2009']\n",
            " ['Alice Munro' '2013']\n",
            " ['Alva Myrdal' '1982']\n",
            " ['Aung San Suu Kyi' '1991']\n",
            " ['Barbara McClintock' '1983']\n",
            " ['Bertha von Suttner' '1905']]\n"
          ]
        }
      ]
    },
    {
      "cell_type": "markdown",
      "source": [
        "4. Com o novo array mulheres_nobel (questão 2), faça um código que realize uma\n",
        "operação booleana, indicando quais anos, após o ano 2000, as mulheres ganharam\n",
        "prêmio nobel - após uma conversão de tipo (como o slide 15).\n"
      ],
      "metadata": {
        "id": "tMj13V2weG76"
      }
    },
    {
      "cell_type": "code",
      "source": [
        "anos = mulheres_nobel[:,1] > 2000\n",
        "anos"
      ],
      "metadata": {
        "colab": {
          "base_uri": "https://localhost:8080/",
          "height": 190
        },
        "id": "pmOj9HWLWrdg",
        "outputId": "ade2c4c3-d198-4bdb-addc-e2469ca9e3c8"
      },
      "execution_count": 16,
      "outputs": [
        {
          "output_type": "error",
          "ename": "TypeError",
          "evalue": "ignored",
          "traceback": [
            "\u001b[0;31m---------------------------------------------------------------------------\u001b[0m",
            "\u001b[0;31mTypeError\u001b[0m                                 Traceback (most recent call last)",
            "\u001b[0;32m<ipython-input-16-61e65e2c1bb4>\u001b[0m in \u001b[0;36m<cell line: 1>\u001b[0;34m()\u001b[0m\n\u001b[0;32m----> 1\u001b[0;31m \u001b[0manos\u001b[0m \u001b[0;34m=\u001b[0m \u001b[0mmulheres_nobel\u001b[0m\u001b[0;34m[\u001b[0m\u001b[0;34m:\u001b[0m\u001b[0;34m,\u001b[0m\u001b[0;36m1\u001b[0m\u001b[0;34m]\u001b[0m \u001b[0;34m>\u001b[0m \u001b[0;36m2000\u001b[0m\u001b[0;34m\u001b[0m\u001b[0;34m\u001b[0m\u001b[0m\n\u001b[0m\u001b[1;32m      2\u001b[0m \u001b[0manos\u001b[0m\u001b[0;34m\u001b[0m\u001b[0;34m\u001b[0m\u001b[0m\n",
            "\u001b[0;31mTypeError\u001b[0m: '>' not supported between instances of 'numpy.ndarray' and 'int'"
          ]
        }
      ]
    },
    {
      "cell_type": "code",
      "source": [
        "anos = mulheres_nobel[:,1]\n",
        "print(anos)\n",
        "\n",
        "anos_int = anos.astype('int')\n",
        "print(anos_int)"
      ],
      "metadata": {
        "id": "4nopzbPiuKuh",
        "colab": {
          "base_uri": "https://localhost:8080/"
        },
        "outputId": "be64e785-64dd-42db-d965-26022f5c36a1"
      },
      "execution_count": 22,
      "outputs": [
        {
          "output_type": "stream",
          "name": "stdout",
          "text": [
            "['1991' '1983' '1905' '2013' '1982' '2009']\n",
            "[1991 1983 1905 2013 1982 2009]\n"
          ]
        }
      ]
    },
    {
      "cell_type": "code",
      "source": [
        "print(anos_int[anos_int > 2000])"
      ],
      "metadata": {
        "colab": {
          "base_uri": "https://localhost:8080/"
        },
        "id": "1fHbfaMNW6gn",
        "outputId": "1284caae-d558-4e85-c2ac-28353796f547"
      },
      "execution_count": 23,
      "outputs": [
        {
          "output_type": "stream",
          "name": "stdout",
          "text": [
            "[2013 2009]\n"
          ]
        }
      ]
    },
    {
      "cell_type": "markdown",
      "source": [
        "5. Considerando o array dos anos de premiação, obtido na questão 4, faça um\n",
        "código que permita:\n",
        "a) Exibir o ano mais recente que teve premiação.\n",
        "b) Exibir o ano do prêmio nobel mais antigo.\n",
        "c) Calcular a média dos anos anteriores a 2000 e substituir os valores desses\n",
        "anos pela média obtida."
      ],
      "metadata": {
        "id": "I3DSlCGWUXfH"
      }
    },
    {
      "cell_type": "code",
      "source": [
        "print(f'Ano mais recente', anos_int.max())\n",
        "print(f'Ano mais antigo',anos_int.min())\n",
        "print(f'Média dos anos',anos_int.mean())\n",
        "print(f'Média dos anos anteriores a 2000',anos_int[anos_int < 2000].mean())\n",
        "anos_int[anos_int < 2000] = anos_int[anos_int < 2000].mean()\n",
        "\n",
        "print(anos_int)"
      ],
      "metadata": {
        "colab": {
          "base_uri": "https://localhost:8080/"
        },
        "id": "k0wLSQaeYBqH",
        "outputId": "29077b94-55d8-4b93-f699-01a12811dfdc"
      },
      "execution_count": 32,
      "outputs": [
        {
          "output_type": "stream",
          "name": "stdout",
          "text": [
            "Ano mais recente 2013\n",
            "Ano mais antigo 1905\n",
            "Média dos anos 1980.5\n",
            "Média dos anos anteriores a 2000 1965.25\n",
            "[1965 1965 1965 2013 1965 2009]\n"
          ]
        }
      ]
    },
    {
      "cell_type": "markdown",
      "source": [
        "**EXTRA**\n",
        "\n",
        "LISTA DE EXERCÍCIOS\n",
        "\n",
        "Considerando as informações relacionadas ao prêmio Nobel:\n",
        "nobel = np.array([\n",
        "['Adolf Butenandt','1939','Germany','Chemistry','Man'],\n",
        "['Adolf Otto Reinhold Windaus','1928','Germany','Chemistry','Man'],\n",
        "['Adolf von Baeyer','1905','Germany','Chemistry','Man'],\n",
        "['Adolfo Pérez Esquivel','1980','Argentina','Peace','Man'],\n",
        "['Ada Yonath','2009','Israel','Chemistry','Woman'],\n",
        "['Alice Munro','2013','Canada','Literature','Woman'],\n",
        "['Alva Myrdal','1982','Sweden','Peace','Woman'],\n",
        "['Aung San Suu Kyi','1991','Burma','Peace','Woman'],\n",
        "['Barbara McClintock','1983','United States', 'Medicine','Woman'],\n",
        "['Bertha von Suttner','1905','Czech Republic','Peace','Woman']\n",
        "])\n",
        "Faça o que se pede:\n",
        "1. Verifique quantas linhas e colunas tem no array nobel.\n",
        "2. Crie um novo array, com os nomes dos premiados e anos de premiação (dica: use\n",
        "fatiamento).\n",
        "3. Com o resultado obtido na questão 2, liste apenas os nomes em ordem crescente\n",
        "(dica: crie um array só com os nomes e use o sort()).\n",
        "4. Liste os nomes em ordem decrescente.\n",
        "5. Liste os anos de premiação após os anos 2000."
      ],
      "metadata": {
        "id": "c4GWPxzBJyN6"
      }
    },
    {
      "cell_type": "code",
      "source": [
        "print(f'Linhas e colunas do array nobel.', nobel.shape)\n",
        "print(f'Novo array, com os nomes dos premiados e anos de premiação.', nobel[:,0:2])\n",
        "nome_e_ano = nobel[:,0:2]\n"
      ],
      "metadata": {
        "colab": {
          "base_uri": "https://localhost:8080/"
        },
        "id": "lyD3d25Jav1w",
        "outputId": "e3013477-8fd7-4a9f-f4a2-c4ebac5f1cfc"
      },
      "execution_count": 49,
      "outputs": [
        {
          "output_type": "stream",
          "name": "stdout",
          "text": [
            "Linhas e colunas do array nobel. (10, 5)\n",
            "Novo array, com os nomes dos premiados e anos de premiação. [['Ada Yonath' '1905']\n",
            " ['Adolf Butenandt' '1905']\n",
            " ['Adolf Otto Reinhold Windaus' '1928']\n",
            " ['Adolf von Baeyer' '1939']\n",
            " ['Adolfo Pérez Esquivel' '1980']\n",
            " ['Alice Munro' '1982']\n",
            " ['Alva Myrdal' '1983']\n",
            " ['Aung San Suu Kyi' '1991']\n",
            " ['Barbara McClintock' '2009']\n",
            " ['Bertha von Suttner' '2013']]\n"
          ]
        }
      ]
    },
    {
      "cell_type": "code",
      "source": [
        "print(f'Nomes em ordem crescente', nome_e_ano[nome_e_ano[:,0].argsort()][:,0])"
      ],
      "metadata": {
        "colab": {
          "base_uri": "https://localhost:8080/"
        },
        "id": "Os9JkzfhcV-g",
        "outputId": "f3644d59-e5e0-4607-f712-e03fef27e5c7"
      },
      "execution_count": 48,
      "outputs": [
        {
          "output_type": "stream",
          "name": "stdout",
          "text": [
            "Nomes em ordem crescente ['Ada Yonath' 'Adolf Butenandt' 'Adolf Otto Reinhold Windaus'\n",
            " 'Adolf von Baeyer' 'Adolfo Pérez Esquivel' 'Alice Munro' 'Alva Myrdal'\n",
            " 'Aung San Suu Kyi' 'Barbara McClintock' 'Bertha von Suttner']\n"
          ]
        }
      ]
    },
    {
      "cell_type": "code",
      "source": [
        "nomes = nome_e_ano[:,0]\n",
        "print(f'Nomes em ordem crescente', np.sort(nomes))"
      ],
      "metadata": {
        "colab": {
          "base_uri": "https://localhost:8080/"
        },
        "id": "FbLXcz7JcwyP",
        "outputId": "63eb2737-e6c9-480d-ea48-f29d1bd2b58e"
      },
      "execution_count": 52,
      "outputs": [
        {
          "output_type": "stream",
          "name": "stdout",
          "text": [
            "Nomes em ordem crescente ['Ada Yonath' 'Adolf Butenandt' 'Adolf Otto Reinhold Windaus'\n",
            " 'Adolf von Baeyer' 'Adolfo Pérez Esquivel' 'Alice Munro' 'Alva Myrdal'\n",
            " 'Aung San Suu Kyi' 'Barbara McClintock' 'Bertha von Suttner']\n"
          ]
        }
      ]
    },
    {
      "cell_type": "code",
      "source": [
        "print(f'Nomes em ordem decrescente', np.sort(nomes)[::-1])"
      ],
      "metadata": {
        "colab": {
          "base_uri": "https://localhost:8080/"
        },
        "id": "91BAzLFqdKmx",
        "outputId": "f1dc3f6b-b395-47e1-a13b-3b533124eba0"
      },
      "execution_count": 54,
      "outputs": [
        {
          "output_type": "stream",
          "name": "stdout",
          "text": [
            "Nomes em ordem crescente ['Bertha von Suttner' 'Barbara McClintock' 'Aung San Suu Kyi'\n",
            " 'Alva Myrdal' 'Alice Munro' 'Adolfo Pérez Esquivel' 'Adolf von Baeyer'\n",
            " 'Adolf Otto Reinhold Windaus' 'Adolf Butenandt' 'Ada Yonath']\n"
          ]
        }
      ]
    },
    {
      "cell_type": "code",
      "source": [
        "anos = nome_e_ano[:,1].astype('int')\n",
        "\n",
        "print(f'Liste os anos de premiação após os anos 2000.', anos[anos > 2000])"
      ],
      "metadata": {
        "colab": {
          "base_uri": "https://localhost:8080/"
        },
        "id": "IIjgwFUffG14",
        "outputId": "b19b123c-a0d3-4f64-9eae-3d04c1ca0aec"
      },
      "execution_count": 61,
      "outputs": [
        {
          "output_type": "stream",
          "name": "stdout",
          "text": [
            "Liste os anos de premiação após os anos 2000. [2009 2013]\n"
          ]
        }
      ]
    }
  ]
}
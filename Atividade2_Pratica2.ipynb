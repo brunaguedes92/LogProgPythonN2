{
  "nbformat": 4,
  "nbformat_minor": 0,
  "metadata": {
    "colab": {
      "provenance": [],
      "authorship_tag": "ABX9TyNpACvAc3+ucaBSSwHMFAFX",
      "include_colab_link": true
    },
    "kernelspec": {
      "name": "python3",
      "display_name": "Python 3"
    },
    "language_info": {
      "name": "python"
    }
  },
  "cells": [
    {
      "cell_type": "markdown",
      "metadata": {
        "id": "view-in-github",
        "colab_type": "text"
      },
      "source": [
        "<a href=\"https://colab.research.google.com/github/brunaguedes92/LogProgPythonN2/blob/main/Atividade2_Pratica2.ipynb\" target=\"_parent\"><img src=\"https://colab.research.google.com/assets/colab-badge.svg\" alt=\"Open In Colab\"/></a>"
      ]
    },
    {
      "cell_type": "markdown",
      "source": [
        "**LISTA DE EXERCÍCIOS**\n",
        "\n",
        "01. Carregue o arquivo “receita_faltando.csv”, com os dados sobre o rank das receitas,\n",
        "considerando as maiores corporações de 2017 (segundo a Revista Fortune), e crie\n",
        "um array. Apresente na tela os dados do arquivo. (Informações: temos no arquivo 2\n",
        "colunas: Rank e Receita)"
      ],
      "metadata": {
        "id": "geW-AryzyTHN"
      }
    },
    {
      "cell_type": "code",
      "execution_count": 2,
      "metadata": {
        "id": "WVGInUxHoUch"
      },
      "outputs": [],
      "source": [
        "import numpy as np"
      ]
    },
    {
      "cell_type": "code",
      "source": [
        "receita = np.loadtxt('/content/receita_faltando.csv', delimiter = ';')"
      ],
      "metadata": {
        "id": "LrNKSAlKslgu"
      },
      "execution_count": 4,
      "outputs": []
    },
    {
      "cell_type": "code",
      "source": [
        "print(receita)"
      ],
      "metadata": {
        "colab": {
          "base_uri": "https://localhost:8080/"
        },
        "id": "9fHy6HZ0s6jv",
        "outputId": "58c60de9-77fa-4957-9ac1-87d44f35461e"
      },
      "execution_count": 5,
      "outputs": [
        {
          "output_type": "stream",
          "name": "stdout",
          "text": [
            "[[1.00000e+00 4.85873e+05]\n",
            " [2.00000e+00 3.15199e+05]\n",
            " [3.00000e+00 2.67518e+05]\n",
            " [4.00000e+00 2.62573e+05]\n",
            " [5.00000e+00         nan]\n",
            " [6.00000e+00 2.40264e+05]\n",
            " [7.00000e+00 2.40033e+05]\n",
            " [8.00000e+00 2.23604e+05]\n",
            " [9.00000e+00         nan]\n",
            " [1.00000e+01 2.05004e+05]\n",
            " [1.10000e+01 1.98533e+05]\n",
            " [1.20000e+01 1.86606e+05]]\n"
          ]
        }
      ]
    },
    {
      "cell_type": "markdown",
      "source": [
        "02. A partir dos dados da questão 1, faça um código para apresentar o gráfico Rank x\n",
        "Receita."
      ],
      "metadata": {
        "id": "3sZyszA7DG2X"
      }
    },
    {
      "cell_type": "code",
      "source": [
        "import matplotlib.pyplot as plt"
      ],
      "metadata": {
        "id": "FJ1_QgHlz4Q2"
      },
      "execution_count": 6,
      "outputs": []
    },
    {
      "cell_type": "code",
      "source": [
        "plt.plot(receita[:,0], receita[:,1])"
      ],
      "metadata": {
        "colab": {
          "base_uri": "https://localhost:8080/",
          "height": 452
        },
        "id": "prL_AEU60-F9",
        "outputId": "3200c965-5fd3-4217-feef-6ec4f2e4803a"
      },
      "execution_count": 7,
      "outputs": [
        {
          "output_type": "execute_result",
          "data": {
            "text/plain": [
              "[<matplotlib.lines.Line2D at 0x7acf741f7310>]"
            ]
          },
          "metadata": {},
          "execution_count": 7
        },
        {
          "output_type": "display_data",
          "data": {
            "text/plain": [
              "<Figure size 640x480 with 1 Axes>"
            ],
            "image/png": "[encoded data removed]"
          },
          "metadata": {}
        }
      ]
    },
    {
      "cell_type": "markdown",
      "source": [
        "03. Localize o primeiro dado faltante e substitua pela média do dado anterior e\n",
        "posterior. Após a substituição, apresente o gráfico novamente."
      ],
      "metadata": {
        "id": "zS6WPXaPDMCe"
      }
    },
    {
      "cell_type": "code",
      "source": [
        "receita[np.isnan(receita[:,1])]"
      ],
      "metadata": {
        "colab": {
          "base_uri": "https://localhost:8080/"
        },
        "id": "cyktLcRF1syt",
        "outputId": "58b8b00a-2a74-47bd-dc32-e9b25fb5e56a"
      },
      "execution_count": 8,
      "outputs": [
        {
          "output_type": "execute_result",
          "data": {
            "text/plain": [
              "array([[ 5., nan],\n",
              "       [ 9., nan]])"
            ]
          },
          "metadata": {},
          "execution_count": 8
        }
      ]
    },
    {
      "cell_type": "code",
      "source": [
        "for item in receita[np.isnan(receita[:,1])]:\n",
        "  # print(receita[receita[0 == item[0]]])\n",
        "  # print(item[0])\n",
        "  # print(receita[:, 0] == item[0])\n",
        "  # receita[receita[:, 0] == item[0]] = np.mean([])\n",
        "  index = np.where(receita[:, 0] == item[0])[0][0]\n",
        "  print(f'Indice:', index)\n",
        "  print(f'Linha com valor nan: ', item)\n",
        "  print(f'Linha de cima: ', receita[index - 1])\n",
        "  print(f'Linha de baixo: ', receita[index + 1])\n",
        "  print(f'Valor de cima: ', receita[index - 1][1])\n",
        "  print(f'Valor de baixo: ', receita[index + 1][1])\n",
        "  mean = np.mean([receita[index - 1][1], receita[index + 1][1]])\n",
        "  print(f'Média dos valores: ', mean)\n",
        "  receita[index][1] = mean\n",
        "\n",
        "  print('------')"
      ],
      "metadata": {
        "id": "kB1L2qzJ2Ljn",
        "outputId": "51927c34-9c0a-41bd-bd49-321353113151",
        "colab": {
          "base_uri": "https://localhost:8080/"
        }
      },
      "execution_count": 29,
      "outputs": [
        {
          "output_type": "stream",
          "name": "stdout",
          "text": [
            "Indice: 4\n",
            "Linha com valor nan:  [ 5. nan]\n",
            "Linha de cima:  [4.00000e+00 2.62573e+05]\n",
            "Linha de baixo:  [6.00000e+00 2.40264e+05]\n",
            "Valor de cima:  262573.0\n",
            "Valor de baixo:  240264.0\n",
            "Média dos valores:  251418.5\n",
            "------\n",
            "Indice: 8\n",
            "Linha com valor nan:  [ 9. nan]\n",
            "Linha de cima:  [8.00000e+00 2.23604e+05]\n",
            "Linha de baixo:  [1.00000e+01 2.05004e+05]\n",
            "Valor de cima:  223604.0\n",
            "Valor de baixo:  205004.0\n",
            "Média dos valores:  214304.0\n",
            "------\n"
          ]
        }
      ]
    },
    {
      "cell_type": "code",
      "source": [
        "plt.plot(receita[:,0], receita[:,1])"
      ],
      "metadata": {
        "colab": {
          "base_uri": "https://localhost:8080/",
          "height": 452
        },
        "id": "7qXLwAzsD1a_",
        "outputId": "a4982798-e77f-4963-b2b6-dee0781b4d87"
      },
      "execution_count": 30,
      "outputs": [
        {
          "output_type": "execute_result",
          "data": {
            "text/plain": [
              "[<matplotlib.lines.Line2D at 0x7acf4186ec80>]"
            ]
          },
          "metadata": {},
          "execution_count": 30
        },
        {
          "output_type": "display_data",
          "data": {
            "text/plain": [
              "<Figure size 640x480 with 1 Axes>"
            ],
            "image/png": "[encoded data removed]"
          },
          "metadata": {}
        }
      ]
    },
    {
      "cell_type": "markdown",
      "source": [],
      "metadata": {
        "id": "46PhbXmuACdd"
      }
    }
  ]
}
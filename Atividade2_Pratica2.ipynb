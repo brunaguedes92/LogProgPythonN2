{
  "nbformat": 4,
  "nbformat_minor": 0,
  "metadata": {
    "colab": {
      "provenance": [],
      "authorship_tag": "ABX9TyO/uo+8xUw0EAxAzK1xP+kV",
      "include_colab_link": true
    },
    "kernelspec": {
      "name": "python3",
      "display_name": "Python 3"
    },
    "language_info": {
      "name": "python"
    }
  },
  "cells": [
    {
      "cell_type": "markdown",
      "metadata": {
        "id": "view-in-github",
        "colab_type": "text"
      },
      "source": [
        "<a href=\"https://colab.research.google.com/github/brunaguedes92/LogProgPythonN2/blob/main/Atividade2_Pratica2.ipynb\" target=\"_parent\"><img src=\"https://colab.research.google.com/assets/colab-badge.svg\" alt=\"Open In Colab\"/></a>"
      ]
    },
    {
      "cell_type": "markdown",
      "source": [
        "**LISTA DE EXERCÍCIOS**\n",
        "\n",
        "01. Carregue o arquivo “receita_faltando.csv”, com os dados sobre o rank das receitas,\n",
        "considerando as maiores corporações de 2017 (segundo a Revista Fortune), e crie\n",
        "um array. Apresente na tela os dados do arquivo. (Informações: temos no arquivo 2\n",
        "colunas: Rank e Receita)"
      ],
      "metadata": {
        "id": "geW-AryzyTHN"
      }
    },
    {
      "cell_type": "code",
      "execution_count": 1,
      "metadata": {
        "id": "WVGInUxHoUch"
      },
      "outputs": [],
      "source": [
        "import numpy as np"
      ]
    },
    {
      "cell_type": "code",
      "source": [
        "receita = np.loadtxt('/content/receita_faltando.csv', delimiter = ';')"
      ],
      "metadata": {
        "id": "LrNKSAlKslgu"
      },
      "execution_count": 15,
      "outputs": []
    },
    {
      "cell_type": "code",
      "source": [
        "print(receita)"
      ],
      "metadata": {
        "colab": {
          "base_uri": "https://localhost:8080/"
        },
        "id": "9fHy6HZ0s6jv",
        "outputId": "79117869-8708-49c8-a913-b4cb66edb00b"
      },
      "execution_count": 16,
      "outputs": [
        {
          "output_type": "stream",
          "name": "stdout",
          "text": [
            "[[1.00000e+00 4.85873e+05]\n",
            " [2.00000e+00 3.15199e+05]\n",
            " [3.00000e+00 2.67518e+05]\n",
            " [4.00000e+00 2.62573e+05]\n",
            " [5.00000e+00         nan]\n",
            " [6.00000e+00 2.40264e+05]\n",
            " [7.00000e+00 2.40033e+05]\n",
            " [8.00000e+00 2.23604e+05]\n",
            " [9.00000e+00         nan]\n",
            " [1.00000e+01 2.05004e+05]\n",
            " [1.10000e+01 1.98533e+05]\n",
            " [1.20000e+01 1.86606e+05]]\n"
          ]
        }
      ]
    },
    {
      "cell_type": "code",
      "source": [
        "import matplotlib.pyplot as plt"
      ],
      "metadata": {
        "id": "FJ1_QgHlz4Q2"
      },
      "execution_count": 20,
      "outputs": []
    },
    {
      "cell_type": "code",
      "source": [
        "plt.plot(receita[:,0], receita[:,1])"
      ],
      "metadata": {
        "colab": {
          "base_uri": "https://localhost:8080/",
          "height": 452
        },
        "id": "prL_AEU60-F9",
        "outputId": "d7860402-1b75-4b20-b070-1580214d0be4"
      },
      "execution_count": 21,
      "outputs": [
        {
          "output_type": "execute_result",
          "data": {
            "text/plain": [
              "[<matplotlib.lines.Line2D at 0x7ab95710e110>]"
            ]
          },
          "metadata": {},
          "execution_count": 21
        },
        {
          "output_type": "display_data",
          "data": {
            "text/plain": [
              "<Figure size 640x480 with 1 Axes>"
            ],
            "image/png": "[encoded data removed]"
          },
          "metadata": {}
        }
      ]
    },
    {
      "cell_type": "code",
      "source": [
        "receita[np.isnan(receita[:,1])]"
      ],
      "metadata": {
        "colab": {
          "base_uri": "https://localhost:8080/"
        },
        "id": "cyktLcRF1syt",
        "outputId": "48902cf4-273f-4df4-93d7-c9051478ad66"
      },
      "execution_count": 23,
      "outputs": [
        {
          "output_type": "execute_result",
          "data": {
            "text/plain": [
              "array([[ 5., nan],\n",
              "       [ 9., nan]])"
            ]
          },
          "metadata": {},
          "execution_count": 23
        }
      ]
    },
    {
      "cell_type": "code",
      "source": [
        "receita[:,1].mean"
      ],
      "metadata": {
        "colab": {
          "base_uri": "https://localhost:8080/"
        },
        "id": "kB1L2qzJ2Ljn",
        "outputId": "eed31816-280d-44ea-f88f-4a4aabe802e8"
      },
      "execution_count": 24,
      "outputs": [
        {
          "output_type": "execute_result",
          "data": {
            "text/plain": [
              "<function ndarray.mean>"
            ]
          },
          "metadata": {},
          "execution_count": 24
        }
      ]
    }
  ]
}
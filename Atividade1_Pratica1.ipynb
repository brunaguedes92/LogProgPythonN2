{
  "nbformat": 4,
  "nbformat_minor": 0,
  "metadata": {
    "colab": {
      "provenance": [],
      "authorship_tag": "ABX9TyN0tJTBM6zSCk2RQJrFP3TU",
      "include_colab_link": true
    },
    "kernelspec": {
      "name": "python3",
      "display_name": "Python 3"
    },
    "language_info": {
      "name": "python"
    }
  },
  "cells": [
    {
      "cell_type": "markdown",
      "metadata": {
        "id": "view-in-github",
        "colab_type": "text"
      },
      "source": [
        "<a href=\"https://colab.research.google.com/github/brunaguedes92/LogProgPythonN2/blob/main/Atividade1_Pratica1.ipynb\" target=\"_parent\"><img src=\"https://colab.research.google.com/assets/colab-badge.svg\" alt=\"Open In Colab\"/></a>"
      ]
    },
    {
      "cell_type": "markdown",
      "source": [
        "**LISTA DE EXERCÍCIOS**\n",
        "\n",
        "1. Crie e visualize (usando print) as seguintes listas, com dados sobre bolsa família,\n",
        "cujas informações têm o nome do estado (valor string), o número de pessoas que\n",
        "recebem bolsa família estado (valor inteiro) e um valor booleano, indicando o\n",
        "aumento de famílias beneficiadas no ano corrente.\n",
        "bolsa_familia1 = ['Rio Grande do Norte', 25000, True]\n",
        "bolsa_familia2 = ['São Paulo', 15000, False]\n",
        "\n",
        "2. Faça o que se pede:\n",
        "a. Verifique quantos valores existem na lista bolsa_familia1 (dica: use len).\n",
        "b. Retorne o valor 'Rio Grande do Norte', a partir do acesso da lista.\n"
      ],
      "metadata": {
        "id": "c7URFNx0-TxK"
      }
    },
    {
      "cell_type": "code",
      "execution_count": null,
      "metadata": {
        "colab": {
          "base_uri": "https://localhost:8080/"
        },
        "id": "9vQxBOAc8uq3",
        "outputId": "41ef89b3-877f-4688-caa2-3fc6ed238397"
      },
      "outputs": [
        {
          "output_type": "stream",
          "name": "stdout",
          "text": [
            "['Rio Grande do Norte', 25000, True]\n",
            "['São Paulo', 15000, False]\n"
          ]
        }
      ],
      "source": [
        "bolsa_familia1 = ['Rio Grande do Norte', 25000, True]\n",
        "bolsa_familia2 = ['São Paulo', 15000, False]\n",
        "\n",
        "print(bolsa_familia1)\n",
        "print(bolsa_familia2)"
      ]
    },
    {
      "cell_type": "code",
      "source": [
        "print(len(bolsa_familia1))"
      ],
      "metadata": {
        "colab": {
          "base_uri": "https://localhost:8080/"
        },
        "id": "skpuKjJIB-A3",
        "outputId": "ab77887f-d970-4d3f-d84e-dc7286afcf70"
      },
      "execution_count": null,
      "outputs": [
        {
          "output_type": "stream",
          "name": "stdout",
          "text": [
            "3\n"
          ]
        }
      ]
    },
    {
      "cell_type": "markdown",
      "source": [
        "3. Concatene as listas bolsa_familia1 e bolsa_familia2 em uma terceira lista, chamada\n",
        "bolsa_familia.\n"
      ],
      "metadata": {
        "id": "IxaNGyAiCKZY"
      }
    },
    {
      "cell_type": "code",
      "source": [
        "bolsa_familia = [bolsa_familia1, bolsa_familia2]\n",
        "\n",
        "print(bolsa_familia)"
      ],
      "metadata": {
        "colab": {
          "base_uri": "https://localhost:8080/"
        },
        "id": "Po8JomRICMsA",
        "outputId": "398d3225-cc53-4aa5-ce2f-02fd7071a9c0"
      },
      "execution_count": null,
      "outputs": [
        {
          "output_type": "stream",
          "name": "stdout",
          "text": [
            "[['Rio Grande do Norte', 25000, True], ['São Paulo', 15000, False]]\n"
          ]
        }
      ]
    },
    {
      "cell_type": "markdown",
      "source": [
        "4. Faça o que se pede:\n",
        "a. Verifique a quantidade de listas existentes na lista bolsa_familia.\n",
        "b. Acesse a lista bolsa_familia e retorne as informações sobre 'São Paulo'.\n",
        "c. Retorne o valor 'São Paulo', a partir do acesso da bolsa_familia.\n",
        "d. Retorne a quantidade de pessoas beneficiadas no Rio Grande do Norte, a partir\n",
        "da lista bolsa_familia.\n",
        "\n",
        "5. Acesse os valores 'Rio Grande do Norte' e 25000, contido na lista bolsa_familia.\n",
        "6. Acesse os valores 'São Paulo' e 15000, contido na lista bolsa_familia."
      ],
      "metadata": {
        "id": "HhrGj-4mDqnQ"
      }
    },
    {
      "cell_type": "code",
      "source": [
        "print(len(bolsa_familia))"
      ],
      "metadata": {
        "colab": {
          "base_uri": "https://localhost:8080/"
        },
        "id": "XTjiOVMoDsV3",
        "outputId": "b62efda6-f744-4ce6-f5bf-bc012fbcba6d"
      },
      "execution_count": null,
      "outputs": [
        {
          "output_type": "stream",
          "name": "stdout",
          "text": [
            "2\n"
          ]
        }
      ]
    },
    {
      "cell_type": "code",
      "source": [
        "bolsa_familia[1]"
      ],
      "metadata": {
        "colab": {
          "base_uri": "https://localhost:8080/"
        },
        "id": "am2BvGfeDw-_",
        "outputId": "c26b43e1-76b8-4c58-996c-17e42689fd96"
      },
      "execution_count": null,
      "outputs": [
        {
          "output_type": "execute_result",
          "data": {
            "text/plain": [
              "['São Paulo', 15000, False]"
            ]
          },
          "metadata": {},
          "execution_count": 8
        }
      ]
    },
    {
      "cell_type": "code",
      "source": [
        "bolsa_familia[1][0]"
      ],
      "metadata": {
        "colab": {
          "base_uri": "https://localhost:8080/",
          "height": 36
        },
        "id": "z0zJ4stsD-Kv",
        "outputId": "7977eff2-a034-41a7-f0ab-54e9e77da06c"
      },
      "execution_count": null,
      "outputs": [
        {
          "output_type": "execute_result",
          "data": {
            "text/plain": [
              "'São Paulo'"
            ],
            "application/vnd.google.colaboratory.intrinsic+json": {
              "type": "string"
            }
          },
          "metadata": {},
          "execution_count": 9
        }
      ]
    },
    {
      "cell_type": "code",
      "source": [
        "bolsa_familia[0][1]"
      ],
      "metadata": {
        "colab": {
          "base_uri": "https://localhost:8080/"
        },
        "id": "IlKKShQdEFCx",
        "outputId": "3f7cbf2d-9a47-4226-ad7c-962d6fececed"
      },
      "execution_count": null,
      "outputs": [
        {
          "output_type": "execute_result",
          "data": {
            "text/plain": [
              "25000"
            ]
          },
          "metadata": {},
          "execution_count": 10
        }
      ]
    },
    {
      "cell_type": "code",
      "source": [
        "print(bolsa_familia[0][0:2])"
      ],
      "metadata": {
        "colab": {
          "base_uri": "https://localhost:8080/"
        },
        "id": "z98-MeZJER7u",
        "outputId": "d8f350de-a792-427c-b171-85c87a6f7fe9"
      },
      "execution_count": null,
      "outputs": [
        {
          "output_type": "stream",
          "name": "stdout",
          "text": [
            "['Rio Grande do Norte', 25000]\n"
          ]
        }
      ]
    },
    {
      "cell_type": "code",
      "source": [
        "print(bolsa_familia[1][0:2])"
      ],
      "metadata": {
        "colab": {
          "base_uri": "https://localhost:8080/"
        },
        "id": "bndyw9neEdnP",
        "outputId": "f719c8bc-fdfe-45bc-d42a-d42d4ebb89b2"
      },
      "execution_count": null,
      "outputs": [
        {
          "output_type": "stream",
          "name": "stdout",
          "text": [
            "['São Paulo', 15000]\n"
          ]
        }
      ]
    },
    {
      "cell_type": "markdown",
      "source": [
        "**Extra**\n",
        "\n",
        "Considerando os dados abertos do Governo Federal sobre execução de contratos vigentes de\n",
        "compra e prestação de serviço do Arquivo Nacional, com dados de 2023, faça o que se pede:\n",
        "1. Crie e visualize o conteúdo das seguintes listas de dados, com as informações sobre\n",
        "Número do Processo, Empresa Contratada, Objeto Contratado e Valor Total.\n",
        "contrato_01 = [08060.000097, 'GIL - EMPRESA DE VIGILANCIA LTDA', 'Prestação\n",
        "de Serviços de Vigilância armada e desarmada na COREG/DF', 898.237]\n",
        "contrato_02 = [08060.000148,'VOETUR TURISMO E REPRESENTACOES LTDA.',\n",
        "'Prestação de Serviços de Agenciamento de Viagens para voos internacionais e\n",
        "domésticos para atendimento dos servidores do Arquivo Nacional.', 202.895]\n",
        "contrato_03 = [08060.000376,'TRANSEGUR VIGILANCIA E SEGURANÇA\n",
        "LTDA','Prestação de Serviços de Vigilância armada e desarmada na Sede do AN/RJ.', 2.411]\n",
        "contrato_04 = [08227.001064,'CENTROSERV SERVIÇOS TÉCNICOS DE\n",
        "RECURSOS HUMANOS LTDA.','Prestação de Serviços de Copeiragem, com\n",
        "fornecimento de materiais e equipamentos para Sede do AN/RJ.', 248.866]\n",
        "\n",
        "2. Visualize quantos valores tem na lista contrato_04.\n",
        "3. Acesse o objeto contratado da empresa VOETUR (contrato_02).\n",
        "4. Concatene, numa lista chamada contratos_rj apenas as listas referentes aos contratos\n",
        "do RJ (contrato_03 e contrato_04).\n",
        "5. Com a lista contratos_rj visualize o serviço e o valor total da empresa\n",
        "CENTROSERV.\n",
        "\n",
        "Dados obtidos em: https://dados.gov.br/dados/conjuntos-dados/contratos-vigentes-"
      ],
      "metadata": {
        "id": "_LOrZbobE1lf"
      }
    },
    {
      "cell_type": "code",
      "source": [
        "contrato_01 = [08060.000097, 'GIL - EMPRESA DE VIGILANCIA LTDA', 'Prestação de Serviços de Vigilância armada e desarmada na COREG/DF', 898.237]\n",
        "contrato_02 = [08060.000148,'VOETUR TURISMO E REPRESENTACOES LTDA.', 'Prestação de Serviços de Agenciamento de Viagens para voos internacionais e domésticos para atendimento dos servidores do Arquivo Nacional.', 202.895]\n",
        "contrato_03 = [08060.000376,'TRANSEGUR VIGILANCIA E SEGURANÇA LTDA','Prestação de Serviços de Vigilância armada e desarmada na Sede do AN/RJ.', 2.411]\n",
        "contrato_04 = [08227.001064,'CENTROSERV SERVIÇOS TÉCNICOS DE RECURSOS HUMANOS LTDA.','Prestação de Serviços de Copeiragem, com fornecimento de materiais e equipamentos para Sede do AN/RJ.', 248.866]\n",
        "\n",
        "print(contrato_01, contrato_02, contrato_03, contrato_04 )"
      ],
      "metadata": {
        "colab": {
          "base_uri": "https://localhost:8080/"
        },
        "id": "AuNDQdKPTIgL",
        "outputId": "9a8488a8-55de-42eb-c532-186097d34996"
      },
      "execution_count": null,
      "outputs": [
        {
          "output_type": "stream",
          "name": "stdout",
          "text": [
            "[8060.000097, 'GIL - EMPRESA DE VIGILANCIA LTDA', 'Prestação de Serviços de Vigilância armada e desarmada na COREG/DF', 898.237] [8060.000148, 'VOETUR TURISMO E REPRESENTACOES LTDA.', 'Prestação de Serviços de Agenciamento de Viagens para voos internacionais e domésticos para atendimento dos servidores do Arquivo Nacional.', 202.895] [8060.000376, 'TRANSEGUR VIGILANCIA E SEGURANÇA LTDA', 'Prestação de Serviços de Vigilância armada e desarmada na Sede do AN/RJ.', 2.411] [8227.001064, 'CENTROSERV SERVIÇOS TÉCNICOS DE RECURSOS HUMANOS LTDA.', 'Prestação de Serviços de Copeiragem, com fornecimento de materiais e equipamentos para Sede do AN/RJ.', 248.866]\n"
          ]
        }
      ]
    },
    {
      "cell_type": "code",
      "source": [
        "print(len(contrato_04))"
      ],
      "metadata": {
        "colab": {
          "base_uri": "https://localhost:8080/"
        },
        "id": "nuhiunnjTj2i",
        "outputId": "655b4acb-e6f6-4ded-9056-8bbeafd30522"
      },
      "execution_count": null,
      "outputs": [
        {
          "output_type": "stream",
          "name": "stdout",
          "text": [
            "4\n"
          ]
        }
      ]
    },
    {
      "cell_type": "code",
      "source": [
        "contrato_02[2]"
      ],
      "metadata": {
        "colab": {
          "base_uri": "https://localhost:8080/",
          "height": 36
        },
        "id": "F0-tsGSaUWWr",
        "outputId": "3fc1d0e4-7d81-4807-e032-1bdcb7723d76"
      },
      "execution_count": null,
      "outputs": [
        {
          "output_type": "execute_result",
          "data": {
            "text/plain": [
              "'Prestação de Serviços de Agenciamento de Viagens para voos internacionais e domésticos para atendimento dos servidores do Arquivo Nacional.'"
            ],
            "application/vnd.google.colaboratory.intrinsic+json": {
              "type": "string"
            }
          },
          "metadata": {},
          "execution_count": 24
        }
      ]
    },
    {
      "cell_type": "code",
      "source": [
        "contratos_rj = [contrato_03, contrato_04]\n",
        "contratos_rj"
      ],
      "metadata": {
        "colab": {
          "base_uri": "https://localhost:8080/"
        },
        "id": "HvbLqLhEToWL",
        "outputId": "47ce24c3-0a8a-46dc-afce-54f8c774520b"
      },
      "execution_count": null,
      "outputs": [
        {
          "output_type": "execute_result",
          "data": {
            "text/plain": [
              "[[8060.000376,\n",
              "  'TRANSEGUR VIGILANCIA E SEGURANÇA LTDA',\n",
              "  'Prestação de Serviços de Vigilância armada e desarmada na Sede do AN/RJ.',\n",
              "  2.411],\n",
              " [8227.001064,\n",
              "  'CENTROSERV SERVIÇOS TÉCNICOS DE RECURSOS HUMANOS LTDA.',\n",
              "  'Prestação de Serviços de Copeiragem, com fornecimento de materiais e equipamentos para Sede do AN/RJ.',\n",
              "  248.866]]"
            ]
          },
          "metadata": {},
          "execution_count": 27
        }
      ]
    },
    {
      "cell_type": "code",
      "source": [
        "contratos_rj[1][2:4]"
      ],
      "metadata": {
        "colab": {
          "base_uri": "https://localhost:8080/"
        },
        "id": "TNzoygufUiz6",
        "outputId": "77e5e61c-6162-4733-eba4-410130940ab5"
      },
      "execution_count": null,
      "outputs": [
        {
          "output_type": "execute_result",
          "data": {
            "text/plain": [
              "['Prestação de Serviços de Copeiragem, com fornecimento de materiais e equipamentos para Sede do AN/RJ.',\n",
              " 248.866]"
            ]
          },
          "metadata": {},
          "execution_count": 33
        }
      ]
    }
  ]
}
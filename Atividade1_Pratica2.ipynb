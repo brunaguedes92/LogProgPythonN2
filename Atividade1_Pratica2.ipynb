{
  "nbformat": 4,
  "nbformat_minor": 0,
  "metadata": {
    "colab": {
      "provenance": [],
      "authorship_tag": "ABX9TyPiFYI6H+M9L2OfKF2gOQUc",
      "include_colab_link": true
    },
    "kernelspec": {
      "name": "python3",
      "display_name": "Python 3"
    },
    "language_info": {
      "name": "python"
    }
  },
  "cells": [
    {
      "cell_type": "markdown",
      "metadata": {
        "id": "view-in-github",
        "colab_type": "text"
      },
      "source": [
        "<a href=\"https://colab.research.google.com/github/brunaguedes92/LogProgPythonN2/blob/main/Atividade1_Pratica2.ipynb\" target=\"_parent\"><img src=\"https://colab.research.google.com/assets/colab-badge.svg\" alt=\"Open In Colab\"/></a>"
      ]
    },
    {
      "cell_type": "markdown",
      "source": [
        "LISTA DE EXERCÍCIOS\n",
        "\n",
        "1. Seja a lista orgao, inicialmente vazia, adicione valores relacionados aos locais de\n",
        "trabalhos dos Servidores Públicos Federais (obs: considere adicionar seu local de\n",
        "trabalho na lista)."
      ],
      "metadata": {
        "id": "5WMlD16sICV_"
      }
    },
    {
      "cell_type": "code",
      "execution_count": 2,
      "metadata": {
        "id": "SJRESqdACzhq",
        "colab": {
          "base_uri": "https://localhost:8080/"
        },
        "outputId": "682f5878-7bc8-4c7c-d22b-494a715d09da"
      },
      "outputs": [
        {
          "output_type": "stream",
          "name": "stdout",
          "text": [
            "Informe o nome do local de trabalho. Digite \"s\" para sair.MME\n",
            "Informe o nome do local de trabalho. Digite \"s\" para sair.MGI\n",
            "Informe o nome do local de trabalho. Digite \"s\" para sair.s\n",
            "['MME', 'MGI']\n"
          ]
        }
      ],
      "source": [
        "locais_de_trabalho = []\n",
        "\n",
        "while True:\n",
        "  nome = input('Informe o nome do local de trabalho. Digite \"s\" para sair.')\n",
        "  if(nome == 's'):\n",
        "    break\n",
        "  locais_de_trabalho.append(nome)\n",
        "\n",
        "print(locais_de_trabalho)"
      ]
    },
    {
      "cell_type": "markdown",
      "source": [
        "2. Com a lista orgao, faça o que se pede:\n",
        "a. Acesse todos os valores da lista (usando for);\n",
        "b. Verifique se o seu local de trabalho está contido na lista (usando for) e\n",
        "imprima: local de trabalho contido na lista."
      ],
      "metadata": {
        "id": "nM7UgzyQI5Ie"
      }
    },
    {
      "cell_type": "code",
      "source": [
        "orgaos = ['Justiça', 'Mulher', 'Agricultura', 'Gestão e Inovação']\n",
        "\n",
        "for orgao in orgaos:\n",
        "  if orgao == 'Gestão e Inovação':\n",
        "    print(orgao)\n"
      ],
      "metadata": {
        "colab": {
          "base_uri": "https://localhost:8080/"
        },
        "id": "9HFTSPIoI9k1",
        "outputId": "b5d86109-6e81-4b8a-b700-ad65ba56c2df"
      },
      "execution_count": 3,
      "outputs": [
        {
          "output_type": "stream",
          "name": "stdout",
          "text": [
            "Gestão e Inovação\n"
          ]
        }
      ]
    },
    {
      "cell_type": "markdown",
      "source": [
        "3. Com a lista orgao, faça o que se pede:\n",
        "a. Visualize o conteúdo em ordem alfabética;\n",
        "b. Visualize o conteúdo na ordem inversa (decrescente);\n",
        "c. Remova o último elemento da lista;\n",
        "d. Procure pelo órgão que você trabalha e, caso ele esteja na lista, remova-o."
      ],
      "metadata": {
        "id": "vbPBnp46Jh2m"
      }
    },
    {
      "cell_type": "code",
      "source": [
        "orgaos.sort()\n",
        "print(orgaos)"
      ],
      "metadata": {
        "colab": {
          "base_uri": "https://localhost:8080/"
        },
        "id": "vxxuc8k6Knt9",
        "outputId": "a038b171-f765-48a3-d2ed-9cf71769c602"
      },
      "execution_count": 6,
      "outputs": [
        {
          "output_type": "stream",
          "name": "stdout",
          "text": [
            "['Agricultura', 'Gestão e Inovação', 'Justiça', 'Mulher']\n"
          ]
        }
      ]
    },
    {
      "cell_type": "code",
      "source": [
        "orgaos.reverse()\n",
        "print(orgaos)"
      ],
      "metadata": {
        "colab": {
          "base_uri": "https://localhost:8080/"
        },
        "id": "zgvbwy8yLTA9",
        "outputId": "726419e8-f67c-466e-e668-913f416c92e7"
      },
      "execution_count": 7,
      "outputs": [
        {
          "output_type": "stream",
          "name": "stdout",
          "text": [
            "['Mulher', 'Justiça', 'Gestão e Inovação', 'Agricultura']\n"
          ]
        }
      ]
    },
    {
      "cell_type": "code",
      "source": [
        "orgaos.pop()"
      ],
      "metadata": {
        "colab": {
          "base_uri": "https://localhost:8080/",
          "height": 36
        },
        "id": "87Atqk8aLdfd",
        "outputId": "5d364bd8-44a1-485d-f118-a9b4965d4c20"
      },
      "execution_count": 8,
      "outputs": [
        {
          "output_type": "execute_result",
          "data": {
            "text/plain": [
              "'Agricultura'"
            ],
            "application/vnd.google.colaboratory.intrinsic+json": {
              "type": "string"
            }
          },
          "metadata": {},
          "execution_count": 8
        }
      ]
    },
    {
      "cell_type": "code",
      "source": [
        "orgaos"
      ],
      "metadata": {
        "colab": {
          "base_uri": "https://localhost:8080/"
        },
        "id": "WxBAR7VwLgXF",
        "outputId": "f5d16d70-0f5a-43cd-8708-11e180269c4e"
      },
      "execution_count": 9,
      "outputs": [
        {
          "output_type": "execute_result",
          "data": {
            "text/plain": [
              "['Mulher', 'Justiça', 'Gestão e Inovação']"
            ]
          },
          "metadata": {},
          "execution_count": 9
        }
      ]
    },
    {
      "cell_type": "code",
      "source": [
        "orgaos.remove('Gestão e Inovação')"
      ],
      "metadata": {
        "id": "EJFAkqkRLiA1"
      },
      "execution_count": 10,
      "outputs": []
    },
    {
      "cell_type": "code",
      "source": [
        "orgaos"
      ],
      "metadata": {
        "colab": {
          "base_uri": "https://localhost:8080/"
        },
        "id": "3gjPA2P3LwpN",
        "outputId": "92aa2c52-294c-4f1e-be86-f9edb2a52fa2"
      },
      "execution_count": 11,
      "outputs": [
        {
          "output_type": "execute_result",
          "data": {
            "text/plain": [
              "['Mulher', 'Justiça']"
            ]
          },
          "metadata": {},
          "execution_count": 11
        }
      ]
    },
    {
      "cell_type": "markdown",
      "source": [
        "4. Seja a lista ministerios = ['Justiça', 'Mulher', 'Mulher', 'Mulher'], remova a repetição e\n",
        "mostre os valores únicos contidos na mesma."
      ],
      "metadata": {
        "id": "ldb5yxNsLywt"
      }
    },
    {
      "cell_type": "code",
      "source": [
        "ministerios = ['Justiça', 'Mulher', 'Mulher', 'Mulher']\n",
        "\n",
        "ministerios_unicos = set(ministerios)\n",
        "\n",
        "print(ministerios_unicos)"
      ],
      "metadata": {
        "colab": {
          "base_uri": "https://localhost:8080/"
        },
        "id": "UfhclpE_MB0N",
        "outputId": "16afd3b5-bd36-4325-a714-b95e1aa2629f"
      },
      "execution_count": 12,
      "outputs": [
        {
          "output_type": "stream",
          "name": "stdout",
          "text": [
            "{'Justiça', 'Mulher'}\n"
          ]
        }
      ]
    },
    {
      "cell_type": "markdown",
      "source": [
        "5. Considere a lista bolsa_familia seguinte:\n",
        "bolsa_familia = [['Rio Grande do Norte', 25000, True], ['São Paulo', 15000, False],\n",
        "['Recife', 17000, True]]\n",
        "Sabendo que cada sub-lista contida em bolsa_familia traz informações sobre o nome do\n",
        "estado (valor string), o número de pessoas que recebem bolsa família estado (valor\n",
        "inteiro) e um valor booleano, indicando o aumento de famílias beneficiadas.\n",
        "Usando FOR, mostre apenas os nomes dos estados que tiveram aumento de famílias\n",
        "beneficiadas (valor TRUE, no último índice)."
      ],
      "metadata": {
        "id": "UqpMbeq4L4Hl"
      }
    },
    {
      "cell_type": "code",
      "source": [
        "bolsa_familia = [['Rio Grande do Norte', 25000, True], ['São Paulo', 15000, False], ['Recife', 17000, True]]\n",
        "\n",
        "for estado in bolsa_familia:\n",
        "  if estado[2] == True:\n",
        "    print(estado[0])\n"
      ],
      "metadata": {
        "colab": {
          "base_uri": "https://localhost:8080/"
        },
        "id": "8HVY9mLeNQL1",
        "outputId": "523da3ff-6e61-421b-c55e-1b3648f14566"
      },
      "execution_count": 13,
      "outputs": [
        {
          "output_type": "stream",
          "name": "stdout",
          "text": [
            "Rio Grande do Norte\n",
            "Recife\n"
          ]
        }
      ]
    },
    {
      "cell_type": "markdown",
      "source": [
        "**EXTRA**\n",
        "\n",
        "Considerando as listas de contratos dos dados abertos do Governo Federal, sobre execução de\n",
        "contratos vigentes de compra e prestação de serviço do Arquivo Nacional, com dados de\n",
        "2023:\n",
        "contrato_01 = [08060.000097, 'GIL - EMPRESA DE VIGILANCIA LTDA', 'Prestação\n",
        "de Serviços de Vigilância armada e desarmada na COREG/DF', 898.237]\n",
        "contrato_02 = [08060.000148,'VOETUR TURISMO E REPRESENTACOES LTDA.',\n",
        "'Prestação de Serviços de Agenciamento de Viagens para voos internacionais e\n",
        "domésticos para atendimento dos servidores do Arquivo Nacional.', 202.895]\n",
        "contrato_03 = [08060.000376,'TRANSEGUR VIGILANCIA E SEGURANÇA\n",
        "LTDA','Prestação de Serviços de Vigilância armada e desarmada na Sede do AN/RJ.',\n",
        "2.411]\n",
        "contrato_04 = [08227.001064,'CENTROSERV SERVIÇOS TÉCNICOS DE\n",
        "RECURSOS HUMANOS LTDA.','Prestação de Serviços de Copeiragem, com\n",
        "fornecimento de materiais e equipamentos para Sede do AN/RJ.', 248.866]\n",
        "1. Concatene todos os contratos, numa lista chamada contratos_empresas.\n",
        "2. Crie uma nova lista, chamada nomes_empresa (inicialmente vazia) e adicione apenas\n",
        "os nomes das empresas, contidas na lista contratos_empresas.\n",
        "3. Imprima a lista nomes_empresa em ordem alfabética.\n",
        "4. Remova a última empresa da lista nomes_empresa.\n",
        "\n",
        "Dados obtidos em: https://dados.gov.br/dados/conjuntos-dados/contratos-vigentes-"
      ],
      "metadata": {
        "id": "BtVtDf7zOX8I"
      }
    },
    {
      "cell_type": "code",
      "source": [
        "contrato_01 = [08060.000097, 'GIL - EMPRESA DE VIGILANCIA LTDA', 'Prestação de Serviços de Vigilância armada e desarmada na COREG/DF', 898.237]\n",
        "contrato_02 = [08060.000148,'VOETUR TURISMO E REPRESENTACOES LTDA.', 'Prestação de Serviços de Agenciamento de Viagens para voos internacionais e domésticos para atendimento dos servidores do Arquivo Nacional.', 202.895]\n",
        "contrato_03 = [08060.000376,'TRANSEGUR VIGILANCIA E SEGURANÇA LTDA','Prestação de Serviços de Vigilância armada e desarmada na Sede do AN/RJ.', 2.411]\n",
        "contrato_04 = [08227.001064,'CENTROSERV SERVIÇOS TÉCNICOS DE RECURSOS HUMANOS LTDA.','Prestação de Serviços de Copeiragem, com fornecimento de materiais e equipamentos para Sede do AN/RJ.', 248.866]"
      ],
      "metadata": {
        "id": "6d4L_SGKOote"
      },
      "execution_count": 15,
      "outputs": []
    },
    {
      "cell_type": "code",
      "source": [
        "contratos_empresas = []\n",
        "\n",
        "contratos_empresas.append(contrato_01)\n",
        "contratos_empresas.append(contrato_02)\n",
        "contratos_empresas.append(contrato_03)\n",
        "contratos_empresas.append(contrato_04)\n",
        "\n",
        "contratos_empresas"
      ],
      "metadata": {
        "colab": {
          "base_uri": "https://localhost:8080/"
        },
        "id": "OBnCTuP2XX9X",
        "outputId": "b31cc6a8-759c-4130-8838-cde97efda750"
      },
      "execution_count": 17,
      "outputs": [
        {
          "output_type": "execute_result",
          "data": {
            "text/plain": [
              "[[8060.000097,\n",
              "  'GIL - EMPRESA DE VIGILANCIA LTDA',\n",
              "  'Prestação de Serviços de Vigilância armada e desarmada na COREG/DF',\n",
              "  898.237],\n",
              " [8060.000148,\n",
              "  'VOETUR TURISMO E REPRESENTACOES LTDA.',\n",
              "  'Prestação de Serviços de Agenciamento de Viagens para voos internacionais e domésticos para atendimento dos servidores do Arquivo Nacional.',\n",
              "  202.895],\n",
              " [8060.000376,\n",
              "  'TRANSEGUR VIGILANCIA E SEGURANÇA LTDA',\n",
              "  'Prestação de Serviços de Vigilância armada e desarmada na Sede do AN/RJ.',\n",
              "  2.411],\n",
              " [8227.001064,\n",
              "  'CENTROSERV SERVIÇOS TÉCNICOS DE RECURSOS HUMANOS LTDA.',\n",
              "  'Prestação de Serviços de Copeiragem, com fornecimento de materiais e equipamentos para Sede do AN/RJ.',\n",
              "  248.866]]"
            ]
          },
          "metadata": {},
          "execution_count": 17
        }
      ]
    },
    {
      "cell_type": "code",
      "source": [
        "nomes_empresa = []\n",
        "for contrato in contratos_empresas:\n",
        "  nomes_empresa.append(contrato[1])"
      ],
      "metadata": {
        "id": "PO4k2Fm9Xo3t"
      },
      "execution_count": 20,
      "outputs": []
    },
    {
      "cell_type": "code",
      "source": [
        "nomes_empresa.sort()\n",
        "\n",
        "print(nomes_empresa)"
      ],
      "metadata": {
        "colab": {
          "base_uri": "https://localhost:8080/"
        },
        "id": "T7Vk4uTRX8EN",
        "outputId": "b1968781-1ef7-4cba-ffc9-184d7ce41739"
      },
      "execution_count": 21,
      "outputs": [
        {
          "output_type": "stream",
          "name": "stdout",
          "text": [
            "['CENTROSERV SERVIÇOS TÉCNICOS DE RECURSOS HUMANOS LTDA.', 'GIL - EMPRESA DE VIGILANCIA LTDA', 'TRANSEGUR VIGILANCIA E SEGURANÇA LTDA', 'VOETUR TURISMO E REPRESENTACOES LTDA.']\n"
          ]
        }
      ]
    },
    {
      "cell_type": "code",
      "source": [
        "nomes_empresa.pop()"
      ],
      "metadata": {
        "colab": {
          "base_uri": "https://localhost:8080/",
          "height": 36
        },
        "id": "BBQysAjAYD6d",
        "outputId": "33b2b322-f10b-42b2-f495-a6031bb787e0"
      },
      "execution_count": 22,
      "outputs": [
        {
          "output_type": "execute_result",
          "data": {
            "text/plain": [
              "'VOETUR TURISMO E REPRESENTACOES LTDA.'"
            ],
            "application/vnd.google.colaboratory.intrinsic+json": {
              "type": "string"
            }
          },
          "metadata": {},
          "execution_count": 22
        }
      ]
    },
    {
      "cell_type": "code",
      "source": [
        "nomes_empresa"
      ],
      "metadata": {
        "colab": {
          "base_uri": "https://localhost:8080/"
        },
        "id": "2Owg65bxYI5E",
        "outputId": "18b2bd11-a488-4b36-91fc-014b473db7cf"
      },
      "execution_count": 23,
      "outputs": [
        {
          "output_type": "execute_result",
          "data": {
            "text/plain": [
              "['CENTROSERV SERVIÇOS TÉCNICOS DE RECURSOS HUMANOS LTDA.',\n",
              " 'GIL - EMPRESA DE VIGILANCIA LTDA',\n",
              " 'TRANSEGUR VIGILANCIA E SEGURANÇA LTDA']"
            ]
          },
          "metadata": {},
          "execution_count": 23
        }
      ]
    }
  ]
}